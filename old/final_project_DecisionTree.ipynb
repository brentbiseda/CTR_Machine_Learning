{
 "cells": [
  {
   "cell_type": "markdown",
   "metadata": {},
   "source": [
    "# w261 Final Project - Clickthrough Rate Prediction\n"
   ]
  },
  {
   "cell_type": "code",
   "execution_count": 16,
   "metadata": {},
   "outputs": [],
   "source": [
    "# imports\n",
    "import re\n",
    "import ast\n",
    "import time\n",
    "import numpy as np\n",
    "import pandas as pd\n",
    "import seaborn as sns\n",
    "import networkx as nx\n",
    "import matplotlib.pyplot as plt\n",
    "from pyspark import SparkContext\n",
    "from pyspark.sql import SQLContext\n",
    "from pyspark.sql.types import *\n",
    "import sys\n",
    "from pyspark.sql import SQLContext\n",
    "from pyspark.ml.feature import VectorAssembler\n",
    "import pyspark.sql.functions as F\n",
    "from pyspark.mllib.util import MLUtils\n",
    "from pyspark.ml.feature import StandardScaler\n",
    "from pyspark.sql import SparkSession\n",
    "from pyspark.ml.feature import OneHotEncoderEstimator, OneHotEncoderModel\n",
    "from pyspark.ml.feature import OneHotEncoder, StringIndexer, StandardScaler, Imputer, VectorAssembler, SQLTransformer\n",
    "from pyspark.ml import Pipeline, PipelineModel\n",
    "from pyspark.ml.classification import LogisticRegression\n",
    "from pyspark.ml.evaluation import RegressionEvaluator\n",
    "from pyspark.ml.evaluation import BinaryClassificationEvaluator\n",
    "from pyspark.ml.tuning import CrossValidator, ParamGridBuilder, CrossValidatorModel\n",
    "from pyspark.mllib.evaluation import BinaryClassificationMetrics, MulticlassMetrics\n",
    "\n",
    "from pyspark.mllib.tree import DecisionTree, DecisionTreeModel\n",
    "from pyspark.mllib.util import MLUtils"
   ]
  },
  {
   "cell_type": "code",
   "execution_count": 2,
   "metadata": {},
   "outputs": [],
   "source": [
    "%reload_ext autoreload\n",
    "%autoreload 2"
   ]
  },
  {
   "cell_type": "code",
   "execution_count": 3,
   "metadata": {},
   "outputs": [],
   "source": [
    "# store path to notebook\n",
    "PWD = !pwd\n",
    "PWD = PWD[0]"
   ]
  },
  {
   "cell_type": "code",
   "execution_count": 4,
   "metadata": {},
   "outputs": [],
   "source": [
    "import pyspark\n",
    "conf = pyspark.SparkConf().setAll([ ('spark.executor.pyspark.memory', '5g'), ('spark.driver.memory','5g')])\n",
    "sc = pyspark.SparkContext(conf=conf)\n",
    "# sqlContext = SQLContext(sc)\n",
    "# \n",
    "# sc = SparkContext(appName=\"Final_Project\")\n",
    "sqlContext = SQLContext(sc)"
   ]
  },
  {
   "cell_type": "code",
   "execution_count": 5,
   "metadata": {},
   "outputs": [],
   "source": [
    "# start Spark Session\n",
    "app_name = \"final_project_notebook\"\n",
    "master = \"local[*]\"\n",
    "spark = SparkSession\\\n",
    "        .builder\\\n",
    "        .appName(app_name)\\\n",
    "        .master(master)\\\n",
    "        .getOrCreate()"
   ]
  },
  {
   "cell_type": "code",
   "execution_count": 6,
   "metadata": {},
   "outputs": [
    {
     "data": {
      "text/html": [
       "\n",
       "            <div>\n",
       "                <p><b>SparkSession - in-memory</b></p>\n",
       "                \n",
       "        <div>\n",
       "            <p><b>SparkContext</b></p>\n",
       "\n",
       "            <p><a href=\"http://docker.w261:4040\">Spark UI</a></p>\n",
       "\n",
       "            <dl>\n",
       "              <dt>Version</dt>\n",
       "                <dd><code>v2.3.1</code></dd>\n",
       "              <dt>Master</dt>\n",
       "                <dd><code>local[*]</code></dd>\n",
       "              <dt>AppName</dt>\n",
       "                <dd><code>pyspark-shell</code></dd>\n",
       "            </dl>\n",
       "        </div>\n",
       "        \n",
       "            </div>\n",
       "        "
      ],
      "text/plain": [
       "<pyspark.sql.session.SparkSession at 0x7f3033074860>"
      ]
     },
     "execution_count": 6,
     "metadata": {},
     "output_type": "execute_result"
    }
   ],
   "source": [
    "spark"
   ]
  },
  {
   "cell_type": "code",
   "execution_count": 7,
   "metadata": {},
   "outputs": [
    {
     "data": {
      "text/plain": [
       "[('spark.app.name', 'final_project_notebook'),\n",
       " ('spark.rdd.compress', 'True'),\n",
       " ('spark.serializer.objectStreamReset', '100'),\n",
       " ('spark.master', 'local[*]'),\n",
       " ('spark.driver.port', '40843'),\n",
       " ('spark.executor.id', 'driver'),\n",
       " ('spark.submit.deployMode', 'client'),\n",
       " ('spark.driver.memory', '5g'),\n",
       " ('spark.app.id', 'local-1574833678834'),\n",
       " ('spark.executor.pyspark.memory', '5g'),\n",
       " ('spark.driver.host', 'docker.w261'),\n",
       " ('spark.ui.showConsoleProgress', 'true')]"
      ]
     },
     "execution_count": 7,
     "metadata": {},
     "output_type": "execute_result"
    }
   ],
   "source": [
    "sc._conf.getAll()"
   ]
  },
  {
   "cell_type": "code",
   "execution_count": 8,
   "metadata": {},
   "outputs": [
    {
     "name": "stdout",
     "output_type": "stream",
     "text": [
      "\n",
      "... Executed in 7.598312854766846 seconds\n"
     ]
    }
   ],
   "source": [
    "start = time.time()\n",
    "trainDF = sqlContext.read.parquet('train_for_model.parquet')\n",
    "testDF = sqlContext.read.parquet('test_for_model.parquet')\n",
    "print(f\"\\n... Executed in {time.time() - start} seconds\")"
   ]
  },
  {
   "cell_type": "code",
   "execution_count": 9,
   "metadata": {},
   "outputs": [
    {
     "data": {
      "text/plain": [
       "pyspark.sql.dataframe.DataFrame"
      ]
     },
     "execution_count": 9,
     "metadata": {},
     "output_type": "execute_result"
    }
   ],
   "source": [
    "type(trainDF)"
   ]
  },
  {
   "cell_type": "code",
   "execution_count": 10,
   "metadata": {},
   "outputs": [
    {
     "data": {
      "text/plain": [
       "45840617"
      ]
     },
     "execution_count": 10,
     "metadata": {},
     "output_type": "execute_result"
    }
   ],
   "source": [
    "trainDF.count()"
   ]
  },
  {
   "cell_type": "code",
   "execution_count": 11,
   "metadata": {},
   "outputs": [
    {
     "data": {
      "text/plain": [
       "[Row(y=0.0, features=SparseVector(283161, {0: 0.5025, 1: 0.0153, 2: 0.2325, 3: 1.9275, 4: 0.0427, 5: 0.3443, 7: 2.4573, 8: 0.2506, 9: 1.2213, 11: 0.3653, 12: 2.2304, 14: 1.0, 2187: 1.0, 2236: 1.0, 145128: 1.0, 157289: 1.0, 157291: 1.0, 157923: 1.0, 157949: 1.0, 157963: 1.0, 158021: 1.0, 172979: 1.0, 173043: 1.0, 176174: 1.0, 176232: 1.0, 181880: 1.0, 182447: 1.0, 182456: 1.0, 182467: 1.0, 182469: 1.0, 183942: 1.0, 189578: 1.0, 189885: 1.0, 189987: 1.0, 190008: 1.0, 190142: 1.0}))]"
      ]
     },
     "execution_count": 11,
     "metadata": {},
     "output_type": "execute_result"
    }
   ],
   "source": [
    "trainDF.take(1)"
   ]
  },
  {
   "cell_type": "code",
   "execution_count": 12,
   "metadata": {},
   "outputs": [],
   "source": [
    "sampleDF = trainDF.sample(False, 0.001, seed=1234) # Approximately 45000 records"
   ]
  },
  {
   "cell_type": "code",
   "execution_count": 13,
   "metadata": {},
   "outputs": [
    {
     "data": {
      "text/plain": [
       "pyspark.sql.dataframe.DataFrame"
      ]
     },
     "execution_count": 13,
     "metadata": {},
     "output_type": "execute_result"
    }
   ],
   "source": [
    "type(sampleDF)"
   ]
  },
  {
   "cell_type": "code",
   "execution_count": 14,
   "metadata": {},
   "outputs": [
    {
     "data": {
      "text/plain": [
       "45634"
      ]
     },
     "execution_count": 14,
     "metadata": {},
     "output_type": "execute_result"
    }
   ],
   "source": [
    "sampleDF.count()"
   ]
  },
  {
   "cell_type": "code",
   "execution_count": 15,
   "metadata": {},
   "outputs": [
    {
     "data": {
      "text/plain": [
       "[Row(y=0.0, features=SparseVector(283161, {1: 0.1584, 2: 0.0028, 3: 0.6425, 4: 0.019, 5: 0.7891, 6: 0.0155, 7: 1.7381, 8: 0.3666, 10: 0.1966, 11: 0.3653, 12: 0.3485, 13: 1.0, 2185: 1.0, 2202: 1.0, 144904: 1.0, 157289: 1.0, 157291: 1.0, 157923: 1.0, 157959: 1.0, 157964: 1.0, 157973: 1.0, 158079: 1.0, 172974: 1.0, 173016: 1.0, 176177: 1.0, 176213: 1.0, 181887: 1.0, 182448: 1.0, 182457: 1.0, 182465: 1.0, 182469: 1.0, 183974: 1.0, 189578: 1.0, 189882: 1.0, 189986: 1.0, 190009: 1.0, 190216: 1.0}))]"
      ]
     },
     "execution_count": 15,
     "metadata": {},
     "output_type": "execute_result"
    }
   ],
   "source": [
    "sampleDF.take(1)"
   ]
  },
  {
   "cell_type": "code",
   "execution_count": 17,
   "metadata": {},
   "outputs": [],
   "source": [
    "# Generate 80/20 (pseudo)random train/test split \n",
    "# start = time.time()\n",
    "trainDF, validDF = sampleDF.randomSplit([0.8,0.2], seed = 1)\n",
    "# print(f\"\\n... Executed in {time.time() - start} seconds\")"
   ]
  },
  {
   "cell_type": "code",
   "execution_count": 18,
   "metadata": {},
   "outputs": [
    {
     "name": "stdout",
     "output_type": "stream",
     "text": [
      "Assigned 36488 for training. Assigned 9146 for Validation.\n"
     ]
    }
   ],
   "source": [
    "print(f\"Assigned {trainDF.count()} for training. Assigned {validDF.count()} for Validation.\")"
   ]
  },
  {
   "cell_type": "code",
   "execution_count": 24,
   "metadata": {},
   "outputs": [
    {
     "ename": "AssertionError",
     "evalue": "the data should be RDD of LabeledPoint",
     "output_type": "error",
     "traceback": [
      "\u001b[0;31m\u001b[0m",
      "\u001b[0;31mAssertionError\u001b[0mTraceback (most recent call last)",
      "\u001b[0;32m<ipython-input-24-f6a0b5b3fd59>\u001b[0m in \u001b[0;36m<module>\u001b[0;34m()\u001b[0m\n\u001b[1;32m      2\u001b[0m \u001b[0;31m#  Empty categoricalFeaturesInfo indicates all features are continuous.\u001b[0m\u001b[0;34m\u001b[0m\u001b[0;34m\u001b[0m\u001b[0m\n\u001b[1;32m      3\u001b[0m model = DecisionTree.trainClassifier(trainDF, numClasses=2, categoricalFeaturesInfo=\"features\",\n\u001b[0;32m----> 4\u001b[0;31m                                      impurity='Entropy', maxDepth=5, maxBins=32)\n\u001b[0m",
      "\u001b[0;32m/opt/anaconda/lib/python3.6/site-packages/pyspark-2.3.1-py3.6.egg/pyspark/mllib/tree.py\u001b[0m in \u001b[0;36mtrainClassifier\u001b[0;34m(cls, data, numClasses, categoricalFeaturesInfo, impurity, maxDepth, maxBins, minInstancesPerNode, minInfoGain)\u001b[0m\n\u001b[1;32m    214\u001b[0m         \"\"\"\n\u001b[1;32m    215\u001b[0m         return cls._train(data, \"classification\", numClasses, categoricalFeaturesInfo,\n\u001b[0;32m--> 216\u001b[0;31m                           impurity, maxDepth, maxBins, minInstancesPerNode, minInfoGain)\n\u001b[0m\u001b[1;32m    217\u001b[0m \u001b[0;34m\u001b[0m\u001b[0m\n\u001b[1;32m    218\u001b[0m     \u001b[0;34m@\u001b[0m\u001b[0mclassmethod\u001b[0m\u001b[0;34m\u001b[0m\u001b[0m\n",
      "\u001b[0;32m/opt/anaconda/lib/python3.6/site-packages/pyspark-2.3.1-py3.6.egg/pyspark/mllib/tree.py\u001b[0m in \u001b[0;36m_train\u001b[0;34m(cls, data, type, numClasses, features, impurity, maxDepth, maxBins, minInstancesPerNode, minInfoGain)\u001b[0m\n\u001b[1;32m    139\u001b[0m                minInstancesPerNode=1, minInfoGain=0.0):\n\u001b[1;32m    140\u001b[0m         \u001b[0mfirst\u001b[0m \u001b[0;34m=\u001b[0m \u001b[0mdata\u001b[0m\u001b[0;34m.\u001b[0m\u001b[0mfirst\u001b[0m\u001b[0;34m(\u001b[0m\u001b[0;34m)\u001b[0m\u001b[0;34m\u001b[0m\u001b[0m\n\u001b[0;32m--> 141\u001b[0;31m         \u001b[0;32massert\u001b[0m \u001b[0misinstance\u001b[0m\u001b[0;34m(\u001b[0m\u001b[0mfirst\u001b[0m\u001b[0;34m,\u001b[0m \u001b[0mLabeledPoint\u001b[0m\u001b[0;34m)\u001b[0m\u001b[0;34m,\u001b[0m \u001b[0;34m\"the data should be RDD of LabeledPoint\"\u001b[0m\u001b[0;34m\u001b[0m\u001b[0m\n\u001b[0m\u001b[1;32m    142\u001b[0m         model = callMLlibFunc(\"trainDecisionTreeModel\", data, type, numClasses, features,\n\u001b[1;32m    143\u001b[0m                               impurity, maxDepth, maxBins, minInstancesPerNode, minInfoGain)\n",
      "\u001b[0;31mAssertionError\u001b[0m: the data should be RDD of LabeledPoint"
     ]
    }
   ],
   "source": [
    "# Train a DecisionTree model.\n",
    "#  Empty categoricalFeaturesInfo indicates all features are continuous.\n",
    "model = DecisionTree.trainClassifier(trainDF, numClasses=2, categoricalFeaturesInfo=\"features\",\n",
    "                                     impurity='Entropy', maxDepth=5, maxBins=32)"
   ]
  },
  {
   "cell_type": "code",
   "execution_count": null,
   "metadata": {},
   "outputs": [],
   "source": [
    "# Evaluate model on test instances and compute test error\n",
    "predictions = model.predict(testData.map(lambda x: x.features))\n",
    "labelsAndPredictions = testData.map(lambda lp: lp.label).zip(predictions)\n",
    "testErr = labelsAndPredictions.filter(\n",
    "    lambda lp: lp[0] != lp[1]).count() / float(testData.count())\n",
    "print('Test Error = ' + str(testErr))\n",
    "print('Learned classification tree model:')\n",
    "print(model.toDebugString())"
   ]
  },
  {
   "cell_type": "code",
   "execution_count": null,
   "metadata": {},
   "outputs": [],
   "source": [
    "# Save and load model\n",
    "model.save(sc, \"target/tmp/myDecisionTreeClassificationModel\")\n",
    "sameModel = DecisionTreeModel.load(sc, \"target/tmp/myDecisionTreeClassificationModel\")"
   ]
  },
  {
   "cell_type": "code",
   "execution_count": null,
   "metadata": {},
   "outputs": [],
   "source": []
  },
  {
   "cell_type": "code",
   "execution_count": null,
   "metadata": {},
   "outputs": [],
   "source": []
  },
  {
   "cell_type": "code",
   "execution_count": null,
   "metadata": {},
   "outputs": [],
   "source": []
  },
  {
   "cell_type": "code",
   "execution_count": null,
   "metadata": {},
   "outputs": [],
   "source": []
  },
  {
   "cell_type": "code",
   "execution_count": null,
   "metadata": {},
   "outputs": [],
   "source": []
  },
  {
   "cell_type": "code",
   "execution_count": null,
   "metadata": {},
   "outputs": [],
   "source": []
  },
  {
   "cell_type": "code",
   "execution_count": null,
   "metadata": {},
   "outputs": [],
   "source": []
  },
  {
   "cell_type": "code",
   "execution_count": null,
   "metadata": {},
   "outputs": [],
   "source": []
  },
  {
   "cell_type": "code",
   "execution_count": null,
   "metadata": {},
   "outputs": [],
   "source": []
  },
  {
   "cell_type": "code",
   "execution_count": null,
   "metadata": {},
   "outputs": [],
   "source": []
  },
  {
   "cell_type": "code",
   "execution_count": null,
   "metadata": {},
   "outputs": [],
   "source": []
  },
  {
   "cell_type": "code",
   "execution_count": null,
   "metadata": {},
   "outputs": [],
   "source": []
  },
  {
   "cell_type": "code",
   "execution_count": null,
   "metadata": {},
   "outputs": [],
   "source": []
  },
  {
   "cell_type": "code",
   "execution_count": null,
   "metadata": {},
   "outputs": [],
   "source": []
  },
  {
   "cell_type": "code",
   "execution_count": null,
   "metadata": {},
   "outputs": [],
   "source": []
  },
  {
   "cell_type": "code",
   "execution_count": null,
   "metadata": {},
   "outputs": [],
   "source": []
  },
  {
   "cell_type": "code",
   "execution_count": 10,
   "metadata": {},
   "outputs": [
    {
     "name": "stdout",
     "output_type": "stream",
     "text": [
      "The number of ones are 933\n",
      "Percentage of ones are 25.561643835616437\n"
     ]
    }
   ],
   "source": [
    "dataset_size = trainDF.count()\n",
    "numPositives = trainDF.select(\"y\").where('y == 1').count()\n",
    "per_ones = (float(numPositives) / float(dataset_size)) * 100\n",
    "numNegatives = float(dataset_size - numPositives)\n",
    "print('The number of ones are {}'.format(numPositives))\n",
    "print('Percentage of ones are {}'.format(per_ones))"
   ]
  },
  {
   "cell_type": "code",
   "execution_count": null,
   "metadata": {},
   "outputs": [],
   "source": [
    "# sc = spark.sparkContext\n",
    "# sqlContext = SQLContext(sc)"
   ]
  },
  {
   "cell_type": "code",
   "execution_count": null,
   "metadata": {},
   "outputs": [],
   "source": [
    "trainDF.take(1)"
   ]
  },
  {
   "cell_type": "code",
   "execution_count": 9,
   "metadata": {},
   "outputs": [
    {
     "name": "stdout",
     "output_type": "stream",
     "text": [
      "\n",
      "... Executed in 167.19526958465576 seconds\n"
     ]
    }
   ],
   "source": [
    "start = time.time()\n",
    "lr = LogisticRegression(featuresCol = 'features', labelCol='y', maxIter=10, regParam=1)\n",
    "lr_model = lr.fit(trainDF)\n",
    "lr_train_predictions = lr_model.transform(trainDF)\n",
    "lr_valid_predictions = lr_model.transform(validDF)\n",
    "\n",
    "print(f\"\\n... Executed in {time.time() - start} seconds\")"
   ]
  },
  {
   "cell_type": "code",
   "execution_count": 12,
   "metadata": {},
   "outputs": [
    {
     "name": "stdout",
     "output_type": "stream",
     "text": [
      "Area Under Precision Recall Curve on Train data = 0.8436236033417023\n",
      "Area Under Precision Recall Curve on Validation data = 0.40998110416147887\n",
      "\n",
      "... Executed in 193.11019563674927 seconds\n"
     ]
    }
   ],
   "source": [
    "start = time.time()\n",
    "lr_evaluator = BinaryClassificationEvaluator(labelCol=\"y\", rawPredictionCol=\"prediction\",metricName=\"areaUnderPR\")\n",
    "\n",
    "trainAUPR = lr_evaluator.evaluate(lr_train_predictions)\n",
    "validAUPR = lr_evaluator.evaluate(lr_valid_predictions)\n",
    "print(f\"Area Under Precision Recall Curve on Train data = {trainAUPR}\")\n",
    "print(f\"Area Under Precision Recall Curve on Validation data = {validAUPR}\")\n",
    "print(f\"\\n... Executed in {time.time() - start} seconds\")"
   ]
  },
  {
   "cell_type": "code",
   "execution_count": null,
   "metadata": {},
   "outputs": [],
   "source": [
    "start = time.time()\n",
    "plt.figure(figsize=(5,5))\n",
    "plt.plot([0, 1], [0, 1], 'r--')\n",
    "plt.plot(cvModel.bestModel.stages[-1].summary.roc.select('FPR').collect(),\n",
    "         cvModel.bestModel.stages[-1].summary.roc.select('TPR').collect())\n",
    "plt.xlabel('FPR')\n",
    "plt.ylabel('TPR')\n",
    "plt.show()\n",
    "print(f\"\\n... Executed in {time.time() - start} seconds\")"
   ]
  },
  {
   "cell_type": "code",
   "execution_count": 13,
   "metadata": {},
   "outputs": [
    {
     "data": {
      "image/png": "[encoded data removed]",
      "text/plain": [
       "<Figure size 432x288 with 1 Axes>"
      ]
     },
     "metadata": {},
     "output_type": "display_data"
    }
   ],
   "source": [
    "beta = np.sort(lr_model.coefficients)\n",
    "plt.plot(beta)\n",
    "plt.ylabel('Beta Coefficients')\n",
    "plt.show()"
   ]
  },
  {
   "cell_type": "code",
   "execution_count": 18,
   "metadata": {},
   "outputs": [
    {
     "data": {
      "text/plain": [
       "array([-0.38513581, -0.37193071, -0.35527042, ...,  0.66618992,\n",
       "        0.66691965,  0.68822023])"
      ]
     },
     "execution_count": 18,
     "metadata": {},
     "output_type": "execute_result"
    }
   ],
   "source": [
    "beta"
   ]
  },
  {
   "cell_type": "code",
   "execution_count": 14,
   "metadata": {},
   "outputs": [
    {
     "data": {
      "image/png": "[encoded data removed]",
      "text/plain": [
       "<Figure size 432x288 with 1 Axes>"
      ]
     },
     "metadata": {},
     "output_type": "display_data"
    },
    {
     "name": "stdout",
     "output_type": "stream",
     "text": [
      "Training set areaUnderROC: 0.9953306973953445\n"
     ]
    }
   ],
   "source": [
    "trainingSummary = lr_model.summary\n",
    "roc = trainingSummary.roc.toPandas()\n",
    "plt.plot(roc['FPR'],roc['TPR'])\n",
    "plt.ylabel('False Positive Rate')\n",
    "plt.xlabel('True Positive Rate')\n",
    "plt.title('ROC Curve')\n",
    "plt.show()\n",
    "print('Training set areaUnderROC: ' + str(trainingSummary.areaUnderROC))"
   ]
  },
  {
   "cell_type": "code",
   "execution_count": 20,
   "metadata": {},
   "outputs": [
    {
     "data": {
      "text/plain": [
       "<pyspark.ml.classification.BinaryLogisticRegressionTrainingSummary at 0x7f73a780c668>"
      ]
     },
     "execution_count": 20,
     "metadata": {},
     "output_type": "execute_result"
    }
   ],
   "source": [
    "# trainingSummary"
   ]
  },
  {
   "cell_type": "code",
   "execution_count": 15,
   "metadata": {},
   "outputs": [
    {
     "data": {
      "image/png": "[encoded data removed]",
      "text/plain": [
       "<Figure size 432x288 with 1 Axes>"
      ]
     },
     "metadata": {},
     "output_type": "display_data"
    }
   ],
   "source": [
    "pr = trainingSummary.pr.toPandas()\n",
    "plt.plot(pr['recall'],pr['precision'])\n",
    "plt.ylabel('Precision')\n",
    "plt.xlabel('Recall')\n",
    "plt.show()"
   ]
  },
  {
   "cell_type": "code",
   "execution_count": 16,
   "metadata": {},
   "outputs": [
    {
     "name": "stdout",
     "output_type": "stream",
     "text": [
      "BalancingRatio = 0.7443835616438356\n"
     ]
    }
   ],
   "source": [
    "BalancingRatio = numNegatives / dataset_size\n",
    "print('BalancingRatio = {}'.format(BalancingRatio))"
   ]
  },
  {
   "cell_type": "code",
   "execution_count": 20,
   "metadata": {},
   "outputs": [
    {
     "name": "stdout",
     "output_type": "stream",
     "text": [
      "+-------------------+\n",
      "|       classWeights|\n",
      "+-------------------+\n",
      "|0.25561643835616443|\n",
      "|0.25561643835616443|\n",
      "|0.25561643835616443|\n",
      "|0.25561643835616443|\n",
      "|0.25561643835616443|\n",
      "+-------------------+\n",
      "only showing top 5 rows\n",
      "\n"
     ]
    }
   ],
   "source": [
    "from pyspark.sql.functions import when\n",
    "\n",
    "trainDF = trainDF.withColumn(\"classWeights\", when(trainDF.y == 1,BalancingRatio).otherwise(1 - BalancingRatio))\n",
    "trainDF.select(\"classWeights\").show(5)"
   ]
  },
  {
   "cell_type": "code",
   "execution_count": 21,
   "metadata": {},
   "outputs": [
    {
     "name": "stdout",
     "output_type": "stream",
     "text": [
      "+---+----------+\n",
      "|  y|prediction|\n",
      "+---+----------+\n",
      "|0.0|       0.0|\n",
      "|0.0|       0.0|\n",
      "|0.0|       0.0|\n",
      "|0.0|       1.0|\n",
      "|0.0|       1.0|\n",
      "|0.0|       0.0|\n",
      "|0.0|       0.0|\n",
      "|0.0|       0.0|\n",
      "|0.0|       1.0|\n",
      "|0.0|       1.0|\n",
      "+---+----------+\n",
      "only showing top 10 rows\n",
      "\n",
      "\n",
      "... Executed in 183.40077424049377 seconds\n"
     ]
    }
   ],
   "source": [
    "start = time.time()\n",
    "lr1 = LogisticRegression(featuresCol = 'features', labelCol='y', weightCol=\"classWeights\", maxIter=10, regParam=1)\n",
    "lr_model1 = lr1.fit(trainDF)\n",
    "lr_train_predictions1 = lr_model1.transform(trainDF)\n",
    "lr_valid_predictions1 = lr_model1.transform(validDF)\n",
    "\n",
    "lr_valid_predictions1.select(\"y\",\"prediction\").show(10)\n",
    "\n",
    "print(f\"\\n... Executed in {time.time() - start} seconds\")"
   ]
  },
  {
   "cell_type": "code",
   "execution_count": 22,
   "metadata": {},
   "outputs": [
    {
     "data": {
      "image/png": "[encoded data removed]",
      "text/plain": [
       "<Figure size 432x288 with 1 Axes>"
      ]
     },
     "metadata": {},
     "output_type": "display_data"
    },
    {
     "name": "stdout",
     "output_type": "stream",
     "text": [
      "Training set areaUnderROC: 0.9963034934265262\n"
     ]
    }
   ],
   "source": [
    "trainingSummary1 = lr_model1.summary\n",
    "roc1 = trainingSummary1.roc.toPandas()\n",
    "plt.plot(roc1['FPR'],roc1['TPR'])\n",
    "plt.ylabel('False Positive Rate')\n",
    "plt.xlabel('True Positive Rate')\n",
    "plt.title('ROC Curve')\n",
    "plt.show()\n",
    "print('Training set areaUnderROC: ' + str(trainingSummary1.areaUnderROC))"
   ]
  },
  {
   "cell_type": "code",
   "execution_count": 24,
   "metadata": {},
   "outputs": [
    {
     "name": "stdout",
     "output_type": "stream",
     "text": [
      "Area Under Precision Recall Curve on Train data = 0.8588076212236445\n",
      "Area Under Precision Recall Curve on Validation data = 0.3485420679247596\n",
      "\n",
      "... Executed in 201.79748034477234 seconds\n"
     ]
    }
   ],
   "source": [
    "start = time.time()\n",
    "lr_evaluator1 = BinaryClassificationEvaluator(labelCol=\"y\", rawPredictionCol=\"prediction\",metricName=\"areaUnderPR\")\n",
    "\n",
    "trainAUPR = lr_evaluator1.evaluate(lr_train_predictions1)\n",
    "validAUPR = lr_evaluator1.evaluate(lr_valid_predictions1)\n",
    "print(f\"Area Under Precision Recall Curve on Train data = {trainAUPR}\")\n",
    "print(f\"Area Under Precision Recall Curve on Validation data = {validAUPR}\")\n",
    "print(f\"\\n... Executed in {time.time() - start} seconds\")"
   ]
  },
  {
   "cell_type": "code",
   "execution_count": null,
   "metadata": {},
   "outputs": [],
   "source": []
  },
  {
   "cell_type": "code",
   "execution_count": 28,
   "metadata": {},
   "outputs": [],
   "source": [
    "trainDF = sqlContext.read.parquet('train_for_model.parquet')\n",
    "testDF = sqlContext.read.parquet('test_for_model.parquet')"
   ]
  },
  {
   "cell_type": "code",
   "execution_count": 29,
   "metadata": {},
   "outputs": [],
   "source": [
    "sampleDF1 = trainDF.sample(False, 0.001, seed=1234) # Approximately 36500 records"
   ]
  },
  {
   "cell_type": "code",
   "execution_count": 30,
   "metadata": {},
   "outputs": [],
   "source": [
    "trainDF, validDF = sampleDF1.randomSplit([0.8,0.2], seed = 1)"
   ]
  },
  {
   "cell_type": "code",
   "execution_count": 31,
   "metadata": {},
   "outputs": [
    {
     "name": "stdout",
     "output_type": "stream",
     "text": [
      "The number of ones are 9247\n",
      "Percentage of ones are 25.34257838193379\n"
     ]
    }
   ],
   "source": [
    "dataset_size = trainDF.count()\n",
    "numPositives = trainDF.select(\"y\").where('y == 1').count()\n",
    "per_ones = (float(numPositives) / float(dataset_size)) * 100\n",
    "numNegatives = float(dataset_size - numPositives)\n",
    "print('The number of ones are {}'.format(numPositives))\n",
    "print('Percentage of ones are {}'.format(per_ones))"
   ]
  },
  {
   "cell_type": "code",
   "execution_count": 32,
   "metadata": {},
   "outputs": [
    {
     "data": {
      "text/plain": [
       "36488"
      ]
     },
     "execution_count": 32,
     "metadata": {},
     "output_type": "execute_result"
    }
   ],
   "source": [
    "dataset_size"
   ]
  },
  {
   "cell_type": "code",
   "execution_count": null,
   "metadata": {},
   "outputs": [],
   "source": []
  },
  {
   "cell_type": "code",
   "execution_count": null,
   "metadata": {},
   "outputs": [],
   "source": []
  },
  {
   "cell_type": "markdown",
   "metadata": {},
   "source": [
    "# K Fold Cross Validation"
   ]
  },
  {
   "cell_type": "code",
   "execution_count": null,
   "metadata": {},
   "outputs": [],
   "source": [
    "start = time.time()\n",
    "lr = LogisticRegression(featuresCol = 'features', labelCol='y', maxIter=10**4)\n",
    "    \n",
    "# Train the 10-fold Cross Validator\n",
    "cvModel = CrossValidator(estimator=Pipeline(stages = [lr]),\n",
    "            estimatorParamMaps=ParamGridBuilder() \\\n",
    "                                .addGrid(lr.regParam, [10.0, 7.5, 5.0, 2.5, 1.0, 0.1]) \\\n",
    "                                .addGrid(lr.elasticNetParam, [0.0, 0.1, 0.5, 0.8, 1.0]) \\\n",
    "                                .build(),\n",
    "            evaluator=BinaryClassificationEvaluator(labelCol=\"y\", rawPredictionCol=\"prediction\",metricName=\"areaUnderPR\"),numFolds=10).fit(trainDF)\n",
    "\n",
    "print(f\"\\n... Executed in {time.time() - start} seconds\")"
   ]
  },
  {
   "cell_type": "code",
   "execution_count": null,
   "metadata": {},
   "outputs": [],
   "source": [
    "regParam = cvModel.bestModel.stages[-1]._java_obj.getRegParam()\n",
    "maxIter = cvModel.bestModel.stages[-1]._java_obj.getMaxIter()\n",
    "elasticNetParam = cvModel.bestModel.stages[-1]._java_obj.getElasticNetParam()\n",
    "print(\"Best Model Parameters:\")\n",
    "print(f\"Reg Param: {regParam}, Max Iterations: {maxIter}, Elastic Net Param: {elasticNetParam}\")"
   ]
  },
  {
   "cell_type": "markdown",
   "metadata": {},
   "source": [
    "After running the logistic regression grid search, from the selected parameters we saw the best model using a regularization parameter of 1, and an elastic net parameter of 0.  We can continue to refine our regularization parameter by running another grid search over a smaller area."
   ]
  },
  {
   "cell_type": "code",
   "execution_count": null,
   "metadata": {},
   "outputs": [],
   "source": [
    "start = time.time()\n",
    "lr = LogisticRegression(featuresCol = 'features', labelCol='y', maxIter=10**4)\n",
    "    \n",
    "# Train the 10-fold Cross Validator\n",
    "cvModel = CrossValidator(estimator=Pipeline(stages = [lr]),\n",
    "            estimatorParamMaps=ParamGridBuilder() \\\n",
    "                                .addGrid(lr.regParam, [2.0, 1.75, 1.50, 1.25, 1.0, 0.75, 0.50]) \\\n",
    "                                .build(),\n",
    "            evaluator=BinaryClassificationEvaluator(labelCol=\"y\", rawPredictionCol=\"prediction\",metricName=\"areaUnderPR\"),numFolds=10).fit(trainDF)\n",
    "\n",
    "print(f\"\\n... Executed in {time.time() - start} seconds\")"
   ]
  },
  {
   "cell_type": "code",
   "execution_count": null,
   "metadata": {},
   "outputs": [],
   "source": [
    "start = time.time()\n",
    "cvModel.bestModel.save(\"best_model\")\n",
    "print(f\"\\n... Executed in {time.time() - start} seconds\")"
   ]
  },
  {
   "cell_type": "code",
   "execution_count": null,
   "metadata": {},
   "outputs": [],
   "source": [
    "start = time.time()\n",
    "trainPredsAndLabels = cvModel.transform(trainDF)\n",
    "validPredsAndLabels = cvModel.transform(validDF)\n",
    "testPredsAndLabels = cvModel.transform(testDF)\n",
    "print(f\"\\n... Executed in {time.time() - start} seconds\")"
   ]
  },
  {
   "cell_type": "code",
   "execution_count": null,
   "metadata": {},
   "outputs": [],
   "source": [
    "regParam = cvModel.bestModel.stages[-1]._java_obj.getRegParam()\n",
    "maxIter = cvModel.bestModel.stages[-1]._java_obj.getMaxIter()\n",
    "elasticNetParam = cvModel.bestModel.stages[-1]._java_obj.getElasticNetParam()\n",
    "print(\"Best Model Parameters:\")\n",
    "print(f\"Reg Param: {regParam}, Max Iterations: {maxIter}, Elastic Net Param: {elasticNetParam}\")"
   ]
  },
  {
   "cell_type": "markdown",
   "metadata": {},
   "source": [
    "# Evaluate Our Best Model with Selected Metrics"
   ]
  },
  {
   "cell_type": "code",
   "execution_count": null,
   "metadata": {},
   "outputs": [],
   "source": [
    "def evaluateModel(predictionAndLabels):\n",
    "    \n",
    "    resultsDict = dict()\n",
    "    \n",
    "    # Area Under ROC\n",
    "    evaluator = BinaryClassificationEvaluator(labelCol=\"y\", rawPredictionCol=\"prediction\", metricName=\"areaUnderROC\")\n",
    "    areaUnderROC = evaluator.evaluate(predictionAndLabels)    \n",
    "    print(f\"Area under ROC = {areaUnderROC}\")\n",
    "    resultsDict['areaUnderROC'] = areaUnderROC\n",
    "\n",
    "    # Area Under PR\n",
    "    evaluator = BinaryClassificationEvaluator(labelCol=\"y\", rawPredictionCol=\"prediction\", metricName='areaUnderPR')\n",
    "    areaUnderPR = evaluator.evaluate(predictionAndLabels)\n",
    "    print(f\"Area under PR = {areaUnderPR}\")\n",
    "    resultsDict['areaUnderPR'] = areaUnderPR\n",
    "\n",
    "    # Metrics\n",
    "    predictionRDD = predictionAndLabels.select(['y', 'prediction']) \\\n",
    "                            .rdd.map(lambda line: (line[1], line[0]))\n",
    "    metrics = MulticlassMetrics(predictionRDD)\n",
    "\n",
    "    # Confusion Matrix\n",
    "    print(metrics.confusionMatrix().toArray())\n",
    "\n",
    "    # Overall statistics\n",
    "    precision = metrics.precision()\n",
    "    resultsDict['precision'] = precision\n",
    "    \n",
    "    recall = metrics.recall()\n",
    "    resultsDict['recall'] = recall\n",
    "    \n",
    "    fscore = metrics.fMeasure()\n",
    "    resultsDict['F Score'] = fscore\n",
    "        \n",
    "    print(f\"Precision: {precision}, Recall: {recall}, F Score: {fscore}\")\n",
    "            \n",
    "    # Statistics by class\n",
    "    labels = [0.0, 1.0]\n",
    "    for label in sorted(labels):\n",
    "        resultsDict[label] = {}\n",
    "        resultsDict[label]['precision'] = metrics.precision(label)\n",
    "        resultsDict[label]['recall'] = metrics.recall(label)\n",
    "        resultsDict[label]['F1 Measure'] = metrics.fMeasure(label, beta=1.0)\n",
    "        print(f\"Class {label}: Precision: {resultsDict[label]['precision']}, Recall: {resultsDict[label]['recall']}, F Score: {resultsDict[label]['F1 Measure']}\")\n",
    "\n",
    "    return resultsDict"
   ]
  },
  {
   "cell_type": "code",
   "execution_count": null,
   "metadata": {},
   "outputs": [],
   "source": [
    "start = time.time()\n",
    "trainResultDict = evaluateModel(trainPredsAndLabels)\n",
    "print(f\"\\n... Executed in {time.time() - start} seconds\")"
   ]
  },
  {
   "cell_type": "code",
   "execution_count": null,
   "metadata": {},
   "outputs": [],
   "source": [
    "start = time.time()\n",
    "validResultDict = evaluateModel(validPredsAndLabels)\n",
    "print(f\"\\n... Executed in {time.time() - start} seconds\")"
   ]
  },
  {
   "cell_type": "markdown",
   "metadata": {},
   "source": [
    "# Submit Our Test Set to Kaggle To See Performance"
   ]
  },
  {
   "cell_type": "code",
   "execution_count": null,
   "metadata": {},
   "outputs": [],
   "source": [
    "from pyspark.sql.window import Window as W\n",
    "kaggleOutput = testPredsAndLabels.withColumn(\"idx\", F.monotonically_increasing_id())\n",
    "w = W.orderBy(\"idx\")\n",
    "kaggleOutput = kaggleOutput.withColumn(\"index\", F.row_number().over(w))\n",
    "kaggleOutput = kaggleOutput.drop(\"idx\")"
   ]
  },
  {
   "cell_type": "code",
   "execution_count": null,
   "metadata": {},
   "outputs": [],
   "source": [
    "kaggleOutput = kaggleOutput.select([\"index\", \"probability\"])"
   ]
  },
  {
   "cell_type": "code",
   "execution_count": null,
   "metadata": {},
   "outputs": [],
   "source": [
    "df.toPandas().to_csv('mycsv.csv')"
   ]
  },
  {
   "cell_type": "code",
   "execution_count": null,
   "metadata": {},
   "outputs": [],
   "source": [
    "df.save('mycsv.csv', 'com.databricks.spark.csv')"
   ]
  },
  {
   "cell_type": "code",
   "execution_count": null,
   "metadata": {},
   "outputs": [],
   "source": [
    "df.write.format('com.databricks.spark.csv').save('mycsv.csv')"
   ]
  },
  {
   "cell_type": "code",
   "execution_count": null,
   "metadata": {},
   "outputs": [],
   "source": [
    "def toCSVLine(data):\n",
    "  return ','.join(str(d) for d in data)"
   ]
  },
  {
   "cell_type": "code",
   "execution_count": null,
   "metadata": {},
   "outputs": [],
   "source": [
    "kaggleOutput.rdd.map(lambda x: (x['index'], x['probability'][0])).map(toCSVLine).take(5)"
   ]
  },
  {
   "cell_type": "code",
   "execution_count": null,
   "metadata": {},
   "outputs": [],
   "source": [
    "start = time.time()\n",
    "lines = kaggleOutput.rdd.map(lambda x: (x['index'], x['probability'][0])).toDF()\n",
    "print(f\"\\n... Executed in {time.time() - start} seconds\")"
   ]
  },
  {
   "cell_type": "code",
   "execution_count": null,
   "metadata": {},
   "outputs": [],
   "source": [
    "lines.take(5)"
   ]
  },
  {
   "cell_type": "code",
   "execution_count": null,
   "metadata": {},
   "outputs": [],
   "source": [
    "start = time.time()\n",
    "with open(\"submission.csv\", w):\n",
    "    file.write(\"Id,Predicted\\n\")\n",
    "    for data in kaggleSubmissionList:\n",
    "        file.write(f\"{data[0]},{data[1]}\\n\")\n",
    "print(f\"\\n... Executed in {time.time() - start} seconds\")"
   ]
  },
  {
   "cell_type": "code",
   "execution_count": null,
   "metadata": {},
   "outputs": [],
   "source": [
    "!kaggle competitions list"
   ]
  },
  {
   "cell_type": "code",
   "execution_count": null,
   "metadata": {},
   "outputs": [],
   "source": [
    "!kaggle competitions submit -c criteo-display-ad-challenge -f submission.csv -m \"Test Submission\"\n"
   ]
  },
  {
   "cell_type": "markdown",
   "metadata": {},
   "source": [
    "# Comparison between CSV & Parquet"
   ]
  },
  {
   "cell_type": "markdown",
   "metadata": {},
   "source": [
    "Apache parquet file format is designed to more efficiently store columnar data rather than by row such as using a file format like csv.  Parquet is optimized to minimize file I/O and efficiently compresses.  Parquet can be queried more efficiently with SQL than csv files.  When using a cloud platform, users may be charged by I/O so use of a csv will be more expensive when compared to parquet.  Additionally, because parquet is faster, computation charges are correspondingly lower as well.  Parquet file format may yield a performance improvement around 10x, or an order of magnitude, when compared to performance on a csv.\n",
    "\n",
    "Additionally, parquet file format allows for easy use of a spark DF as it has performance improvements relative to RDD.  \n",
    "\n",
    "https://dzone.com/articles/how-to-be-a-hero-with-powerful-parquet-google-and  \n",
    "https://developer.ibm.com/hadoop/2016/01/14/5-reasons-to-choose-parquet-for-spark-sql/  \n",
    "https://mapr.com/blog/tips-and-best-practices-to-take-advantage-of-spark-2-x/  "
   ]
  },
  {
   "cell_type": "markdown",
   "metadata": {},
   "source": [
    "# ML Lib Use  "
   ]
  },
  {
   "cell_type": "markdown",
   "metadata": {},
   "source": [
    "In this project we will leverage the MLlib RDD based API to perform machine learning algorithms on our dataset\n",
    "\n",
    "https://spark.apache.org/docs/latest/mllib-guide.html  "
   ]
  },
  {
   "cell_type": "markdown",
   "metadata": {},
   "source": [
    "# What is Evaluation Metric and how does this matter wrt over & under sampling?"
   ]
  },
  {
   "cell_type": "markdown",
   "metadata": {},
   "source": [
    "We use area under the curve."
   ]
  },
  {
   "cell_type": "markdown",
   "metadata": {},
   "source": [
    "## Table of Contents\n",
    "\n",
    "* __Section 1__ - Question Formulation\n",
    "* __Section 2__ - Algorithm Explanation\n",
    "* __Section 3__ - EDA & Challenges\n",
    "* __Section 4__ - Algorithm Implementation\n",
    "* __Section 5__ - Course Concepts"
   ]
  },
  {
   "cell_type": "markdown",
   "metadata": {},
   "source": [
    "# __Section 1__ - Question Formulation"
   ]
  },
  {
   "cell_type": "markdown",
   "metadata": {},
   "source": []
  },
  {
   "cell_type": "markdown",
   "metadata": {},
   "source": []
  },
  {
   "cell_type": "markdown",
   "metadata": {},
   "source": [
    "# __Section 2__ - Algorithm Explanation"
   ]
  },
  {
   "cell_type": "markdown",
   "metadata": {},
   "source": []
  },
  {
   "cell_type": "markdown",
   "metadata": {},
   "source": []
  },
  {
   "cell_type": "markdown",
   "metadata": {},
   "source": [
    "# __Section 3__ - EDA & Challenges"
   ]
  },
  {
   "cell_type": "markdown",
   "metadata": {},
   "source": []
  },
  {
   "cell_type": "markdown",
   "metadata": {},
   "source": []
  },
  {
   "cell_type": "markdown",
   "metadata": {},
   "source": [
    "# __Section 4__ - Algorithm Implementation"
   ]
  },
  {
   "cell_type": "markdown",
   "metadata": {},
   "source": []
  },
  {
   "cell_type": "markdown",
   "metadata": {},
   "source": []
  },
  {
   "cell_type": "markdown",
   "metadata": {},
   "source": [
    "# __Section 5__ - Course Concepts"
   ]
  },
  {
   "cell_type": "markdown",
   "metadata": {},
   "source": []
  },
  {
   "cell_type": "markdown",
   "metadata": {},
   "source": []
  },
  {
   "cell_type": "code",
   "execution_count": null,
   "metadata": {},
   "outputs": [],
   "source": []
  }
 ],
 "metadata": {
  "kernelspec": {
   "display_name": "Python 3",
   "language": "python",
   "name": "python3"
  },
  "language_info": {
   "codemirror_mode": {
    "name": "ipython",
    "version": 3
   },
   "file_extension": ".py",
   "mimetype": "text/x-python",
   "name": "python",
   "nbconvert_exporter": "python",
   "pygments_lexer": "ipython3",
   "version": "3.6.6"
  }
 },
 "nbformat": 4,
 "nbformat_minor": 4
}
