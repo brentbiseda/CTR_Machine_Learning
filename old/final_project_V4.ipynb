{
 "cells": [
  {
   "cell_type": "markdown",
   "metadata": {},
   "source": [
    "# w261 Final Project - Clickthrough Rate Prediction\n"
   ]
  },
  {
   "cell_type": "markdown",
   "metadata": {},
   "source": [
    "# Team & Members"
   ]
  },
  {
   "cell_type": "markdown",
   "metadata": {},
   "source": [
    "Team #21\n",
    "\n",
    "Brent Biseda  \n",
    "Katie Mo  \n",
    "Teddy Fong  \n",
    "Thanh Le  \n",
    "Summer 2019, section 4   "
   ]
  },
  {
   "cell_type": "code",
   "execution_count": 1,
   "metadata": {},
   "outputs": [],
   "source": [
    "# imports\n",
    "import re\n",
    "import ast\n",
    "import time\n",
    "import numpy as np\n",
    "import pandas as pd\n",
    "import seaborn as sns\n",
    "import networkx as nx\n",
    "import matplotlib.pyplot as plt\n",
    "from pyspark import SparkContext\n",
    "from pyspark.sql import SQLContext\n",
    "from pyspark.sql.types import *\n",
    "import sys\n",
    "from pyspark.sql import SQLContext\n",
    "from pyspark.ml.feature import VectorAssembler\n",
    "import pyspark.sql.functions as F\n",
    "from pyspark.mllib.util import MLUtils\n",
    "from pyspark.ml.feature import StandardScaler\n",
    "from pyspark.sql import SparkSession\n",
    "from pyspark.ml.feature import OneHotEncoderEstimator, OneHotEncoderModel\n",
    "from pyspark.ml.feature import OneHotEncoder, StringIndexer, StandardScaler, MinMaxScaler, MaxAbsScaler, Imputer, VectorAssembler, SQLTransformer\n",
    "from pyspark.ml import Pipeline, PipelineModel\n",
    "from pyspark.ml.classification import LogisticRegression\n",
    "from pyspark.ml.evaluation import RegressionEvaluator\n",
    "from pyspark.ml.evaluation import BinaryClassificationEvaluator\n",
    "from pyspark.ml.tuning import CrossValidator, ParamGridBuilder, CrossValidatorModel\n",
    "from pyspark.mllib.evaluation import BinaryClassificationMetrics, MulticlassMetrics"
   ]
  },
  {
   "cell_type": "code",
   "execution_count": 2,
   "metadata": {},
   "outputs": [],
   "source": [
    "%reload_ext autoreload\n",
    "%autoreload 2"
   ]
  },
  {
   "cell_type": "code",
   "execution_count": 3,
   "metadata": {},
   "outputs": [],
   "source": [
    "# store path to notebook\n",
    "PWD = !pwd\n",
    "PWD = PWD[0]"
   ]
  },
  {
   "cell_type": "code",
   "execution_count": 4,
   "metadata": {},
   "outputs": [],
   "source": [
    "sc = SparkContext(appName=\"Final_Project\")\n",
    "sqlContext = SQLContext(sc)"
   ]
  },
  {
   "cell_type": "markdown",
   "metadata": {},
   "source": [
    "# Add Column ID to testDF"
   ]
  },
  {
   "cell_type": "markdown",
   "metadata": {},
   "source": [
    "In order to submit to Kaggle we should ensure that the correct id is appended to the dataframe prior to processing with spark as we may lose the ability to know which row id we are evaluating"
   ]
  },
  {
   "cell_type": "code",
   "execution_count": 5,
   "metadata": {},
   "outputs": [
    {
     "name": "stdout",
     "output_type": "stream",
     "text": [
      "\n",
      "... Executed in 28.57644557952881 seconds\n"
     ]
    }
   ],
   "source": [
    "start = time.time()\n",
    "testDF = pd.read_csv(\"test.txt\", delimiter=\"\\t\", header=None)\n",
    "print(f\"\\n... Executed in {time.time() - start} seconds\")"
   ]
  },
  {
   "cell_type": "code",
   "execution_count": 6,
   "metadata": {},
   "outputs": [],
   "source": [
    "testDF.insert(0, \"id\", np.arange(len(testDF)) + 60000000)"
   ]
  },
  {
   "cell_type": "code",
   "execution_count": 7,
   "metadata": {},
   "outputs": [],
   "source": [
    "testDF = testDF.astype({\"id\": int})"
   ]
  },
  {
   "cell_type": "code",
   "execution_count": 8,
   "metadata": {},
   "outputs": [
    {
     "name": "stdout",
     "output_type": "stream",
     "text": [
      "\n",
      "... Executed in 75.1240165233612 seconds\n"
     ]
    }
   ],
   "source": [
    "start = time.time()\n",
    "testDF.to_csv(\"test2.txt\", sep=\"\\t\", index=False, header=False)\n",
    "print(f\"\\n... Executed in {time.time() - start} seconds\")"
   ]
  },
  {
   "cell_type": "markdown",
   "metadata": {},
   "source": [
    "# Write the CSV's to Parquet"
   ]
  },
  {
   "cell_type": "code",
   "execution_count": 9,
   "metadata": {},
   "outputs": [],
   "source": [
    "def parseAllColumns(line):\n",
    "    row = line.split(\"\\t\")\n",
    "    for i in range(14):\n",
    "        if row[i] == \"\":\n",
    "            row[i] = None\n",
    "        else:\n",
    "            row[i] = float(row[i])\n",
    "\n",
    "    return row"
   ]
  },
  {
   "cell_type": "code",
   "execution_count": 10,
   "metadata": {},
   "outputs": [
    {
     "name": "stdout",
     "output_type": "stream",
     "text": [
      "\n",
      "... Executed in 450.37015986442566 seconds\n"
     ]
    }
   ],
   "source": [
    "# Convert train file from csv to parquet\n",
    "start = time.time()\n",
    "schema = StructType([\n",
    "    StructField(\"y\", FloatType(), True),\n",
    "    StructField(\"x1\", FloatType(), True),\n",
    "    StructField(\"x2\", FloatType(), True),\n",
    "    StructField(\"x3\", FloatType(), True),\n",
    "    StructField(\"x4\", FloatType(), True),\n",
    "    StructField(\"x5\", FloatType(), True),\n",
    "    StructField(\"x6\", FloatType(), True),\n",
    "    StructField(\"x7\", FloatType(), True),\n",
    "    StructField(\"x8\", FloatType(), True),\n",
    "    StructField(\"x9\", FloatType(), True),\n",
    "    StructField(\"x10\", FloatType(), True),\n",
    "    StructField(\"x11\", FloatType(), True),\n",
    "    StructField(\"x12\", FloatType(), True),\n",
    "    StructField(\"x13\", FloatType(), True),\n",
    "    StructField(\"x14\", StringType(), True),\n",
    "    StructField(\"x15\", StringType(), True),\n",
    "    StructField(\"x16\", StringType(), True),\n",
    "    StructField(\"x17\", StringType(), True),\n",
    "    StructField(\"x18\", StringType(), True),\n",
    "    StructField(\"x19\", StringType(), True),\n",
    "    StructField(\"x20\", StringType(), True),\n",
    "    StructField(\"x21\", StringType(), True),\n",
    "    StructField(\"x22\", StringType(), True),\n",
    "    StructField(\"x23\", StringType(), True),\n",
    "    StructField(\"x24\", StringType(), True),\n",
    "    StructField(\"x25\", StringType(), True),\n",
    "    StructField(\"x26\", StringType(), True),\n",
    "    StructField(\"x27\", StringType(), True),\n",
    "    StructField(\"x28\", StringType(), True),\n",
    "    StructField(\"x29\", StringType(), True),\n",
    "    StructField(\"x30\", StringType(), True),\n",
    "    StructField(\"x31\", StringType(), True),\n",
    "    StructField(\"x32\", StringType(), True),\n",
    "    StructField(\"x33\", StringType(), True),\n",
    "    StructField(\"x34\", StringType(), True),\n",
    "    StructField(\"x35\", StringType(), True),\n",
    "    StructField(\"x36\", StringType(), True),\n",
    "    StructField(\"x37\", StringType(), True),\n",
    "    StructField(\"x38\", StringType(), True),\n",
    "    StructField(\"x39\", StringType(), True)])\n",
    "\n",
    "rdd = sc.textFile('train.txt').map(parseAllColumns)\n",
    "df = sqlContext.createDataFrame(rdd, schema)\n",
    "df.write.parquet('train.parquet')\n",
    "print(f\"\\n... Executed in {time.time() - start} seconds\")"
   ]
  },
  {
   "cell_type": "code",
   "execution_count": 11,
   "metadata": {},
   "outputs": [
    {
     "name": "stdout",
     "output_type": "stream",
     "text": [
      "\n",
      "... Executed in 63.724459171295166 seconds\n"
     ]
    }
   ],
   "source": [
    "# Convert test file from csv to parquet\n",
    "start = time.time()\n",
    "schema = StructType([\n",
    "    StructField(\"id\", DoubleType(), True), # We Created an ID Label\n",
    "    StructField(\"x1\", FloatType(), True),\n",
    "    StructField(\"x2\", FloatType(), True),\n",
    "    StructField(\"x3\", FloatType(), True),\n",
    "    StructField(\"x4\", FloatType(), True),\n",
    "    StructField(\"x5\", FloatType(), True),\n",
    "    StructField(\"x6\", FloatType(), True),\n",
    "    StructField(\"x7\", FloatType(), True),\n",
    "    StructField(\"x8\", FloatType(), True),\n",
    "    StructField(\"x9\", FloatType(), True),\n",
    "    StructField(\"x10\", FloatType(), True),\n",
    "    StructField(\"x11\", FloatType(), True),\n",
    "    StructField(\"x12\", FloatType(), True),\n",
    "    StructField(\"x13\", FloatType(), True),\n",
    "    StructField(\"x14\", StringType(), True),\n",
    "    StructField(\"x15\", StringType(), True),\n",
    "    StructField(\"x16\", StringType(), True),\n",
    "    StructField(\"x17\", StringType(), True),\n",
    "    StructField(\"x18\", StringType(), True),\n",
    "    StructField(\"x19\", StringType(), True),\n",
    "    StructField(\"x20\", StringType(), True),\n",
    "    StructField(\"x21\", StringType(), True),\n",
    "    StructField(\"x22\", StringType(), True),\n",
    "    StructField(\"x23\", StringType(), True),\n",
    "    StructField(\"x24\", StringType(), True),\n",
    "    StructField(\"x25\", StringType(), True),\n",
    "    StructField(\"x26\", StringType(), True),\n",
    "    StructField(\"x27\", StringType(), True),\n",
    "    StructField(\"x28\", StringType(), True),\n",
    "    StructField(\"x29\", StringType(), True),\n",
    "    StructField(\"x30\", StringType(), True),\n",
    "    StructField(\"x31\", StringType(), True),\n",
    "    StructField(\"x32\", StringType(), True),\n",
    "    StructField(\"x33\", StringType(), True),\n",
    "    StructField(\"x34\", StringType(), True),\n",
    "    StructField(\"x35\", StringType(), True),\n",
    "    StructField(\"x36\", StringType(), True),\n",
    "    StructField(\"x37\", StringType(), True),\n",
    "    StructField(\"x38\", StringType(), True),\n",
    "    StructField(\"x39\", StringType(), True)])\n",
    "\n",
    "rdd = sc.textFile('test2.txt').map(parseAllColumns)\n",
    "df = sqlContext.createDataFrame(rdd, schema)\n",
    "df.write.parquet('test.parquet')\n",
    "print(f\"\\n... Executed in {time.time() - start} seconds\")"
   ]
  },
  {
   "cell_type": "code",
   "execution_count": 5,
   "metadata": {},
   "outputs": [],
   "source": [
    "# start Spark Session\n",
    "app_name = \"final_project_notebook\"\n",
    "master = \"local[*]\"\n",
    "spark = SparkSession\\\n",
    "        .builder\\\n",
    "        .appName(app_name)\\\n",
    "        .master(master)\\\n",
    "        .getOrCreate()"
   ]
  },
  {
   "cell_type": "code",
   "execution_count": 6,
   "metadata": {},
   "outputs": [
    {
     "data": {
      "text/html": [
       "\n",
       "            <div>\n",
       "                <p><b>SparkSession - in-memory</b></p>\n",
       "                \n",
       "        <div>\n",
       "            <p><b>SparkContext</b></p>\n",
       "\n",
       "            <p><a href=\"http://docker.w261:4040\">Spark UI</a></p>\n",
       "\n",
       "            <dl>\n",
       "              <dt>Version</dt>\n",
       "                <dd><code>v2.4.4</code></dd>\n",
       "              <dt>Master</dt>\n",
       "                <dd><code>local[*]</code></dd>\n",
       "              <dt>AppName</dt>\n",
       "                <dd><code>Final_Project</code></dd>\n",
       "            </dl>\n",
       "        </div>\n",
       "        \n",
       "            </div>\n",
       "        "
      ],
      "text/plain": [
       "<pyspark.sql.session.SparkSession at 0x7febf2e69a10>"
      ]
     },
     "execution_count": 6,
     "metadata": {},
     "output_type": "execute_result"
    }
   ],
   "source": [
    "spark"
   ]
  },
  {
   "cell_type": "code",
   "execution_count": 7,
   "metadata": {},
   "outputs": [],
   "source": [
    "sc = spark.sparkContext\n",
    "sqlContext = SQLContext(sc)"
   ]
  },
  {
   "cell_type": "code",
   "execution_count": 8,
   "metadata": {},
   "outputs": [
    {
     "data": {
      "text/plain": [
       "[('spark.driver.memory', '25g'),\n",
       " ('spark.driver.port', '38519'),\n",
       " ('spark.app.name', 'final_project_notebook'),\n",
       " ('spark.app.id', 'local-1574524168976'),\n",
       " ('spark.rdd.compress', 'True'),\n",
       " ('spark.serializer.objectStreamReset', '100'),\n",
       " ('spark.master', 'local[*]'),\n",
       " ('spark.executor.id', 'driver'),\n",
       " ('spark.submit.deployMode', 'client'),\n",
       " ('spark.ui.showConsoleProgress', 'true'),\n",
       " ('spark.driver.host', 'docker.w261'),\n",
       " ('spark.executor.memory', '25g')]"
      ]
     },
     "execution_count": 8,
     "metadata": {},
     "output_type": "execute_result"
    }
   ],
   "source": [
    "sc._conf.getAll()"
   ]
  },
  {
   "cell_type": "code",
   "execution_count": 113,
   "metadata": {},
   "outputs": [],
   "source": [
    "testDF = sqlContext.read.parquet('test.parquet') \n",
    "trainDF = sqlContext.read.parquet('train.parquet')"
   ]
  },
  {
   "cell_type": "code",
   "execution_count": 114,
   "metadata": {},
   "outputs": [],
   "source": [
    "HEADER = trainDF.columns\n",
    "INTEGER_FEATURES = HEADER[0:14] # These are the integer features\n",
    "CATEGORICAL_FEATURES = HEADER[14:] # These are the categorical features"
   ]
  },
  {
   "cell_type": "code",
   "execution_count": 69,
   "metadata": {},
   "outputs": [],
   "source": [
    "sample = trainDF.sample(False, 0.001, seed=1234).toPandas() # Approximately 50000 records"
   ]
  },
  {
   "cell_type": "code",
   "execution_count": 70,
   "metadata": {},
   "outputs": [
    {
     "data": {
      "text/html": [
       "<div>\n",
       "<style scoped>\n",
       "    .dataframe tbody tr th:only-of-type {\n",
       "        vertical-align: middle;\n",
       "    }\n",
       "\n",
       "    .dataframe tbody tr th {\n",
       "        vertical-align: top;\n",
       "    }\n",
       "\n",
       "    .dataframe thead th {\n",
       "        text-align: right;\n",
       "    }\n",
       "</style>\n",
       "<table border=\"1\" class=\"dataframe\">\n",
       "  <thead>\n",
       "    <tr style=\"text-align: right;\">\n",
       "      <th></th>\n",
       "      <th>y</th>\n",
       "      <th>x1</th>\n",
       "      <th>x2</th>\n",
       "      <th>x3</th>\n",
       "      <th>x4</th>\n",
       "      <th>x5</th>\n",
       "      <th>x6</th>\n",
       "      <th>x7</th>\n",
       "      <th>x8</th>\n",
       "      <th>x9</th>\n",
       "      <th>...</th>\n",
       "      <th>x30</th>\n",
       "      <th>x31</th>\n",
       "      <th>x32</th>\n",
       "      <th>x33</th>\n",
       "      <th>x34</th>\n",
       "      <th>x35</th>\n",
       "      <th>x36</th>\n",
       "      <th>x37</th>\n",
       "      <th>x38</th>\n",
       "      <th>x39</th>\n",
       "    </tr>\n",
       "  </thead>\n",
       "  <tbody>\n",
       "    <tr>\n",
       "      <th>0</th>\n",
       "      <td>0.0</td>\n",
       "      <td>0.0</td>\n",
       "      <td>4.0</td>\n",
       "      <td>168.0</td>\n",
       "      <td>NaN</td>\n",
       "      <td>19290.0</td>\n",
       "      <td>NaN</td>\n",
       "      <td>NaN</td>\n",
       "      <td>16.0</td>\n",
       "      <td>NaN</td>\n",
       "      <td>...</td>\n",
       "      <td>e5ba7672</td>\n",
       "      <td>f855e3f0</td>\n",
       "      <td>21ddcdc9</td>\n",
       "      <td>5840adea</td>\n",
       "      <td>54bf0a81</td>\n",
       "      <td></td>\n",
       "      <td>be7c41b4</td>\n",
       "      <td>3371d710</td>\n",
       "      <td>001f3601</td>\n",
       "      <td>aa5f0a15</td>\n",
       "    </tr>\n",
       "    <tr>\n",
       "      <th>1</th>\n",
       "      <td>0.0</td>\n",
       "      <td>2.0</td>\n",
       "      <td>63.0</td>\n",
       "      <td>13.0</td>\n",
       "      <td>2.0</td>\n",
       "      <td>2.0</td>\n",
       "      <td>2.0</td>\n",
       "      <td>3.0</td>\n",
       "      <td>7.0</td>\n",
       "      <td>2.0</td>\n",
       "      <td>...</td>\n",
       "      <td>07c540c4</td>\n",
       "      <td>bc5a0ff7</td>\n",
       "      <td>04de9d96</td>\n",
       "      <td>a458ea53</td>\n",
       "      <td>93ecdb15</td>\n",
       "      <td></td>\n",
       "      <td>32c7478e</td>\n",
       "      <td>80ad7846</td>\n",
       "      <td>001f3601</td>\n",
       "      <td>d43d2464</td>\n",
       "    </tr>\n",
       "    <tr>\n",
       "      <th>2</th>\n",
       "      <td>0.0</td>\n",
       "      <td>NaN</td>\n",
       "      <td>1.0</td>\n",
       "      <td>6.0</td>\n",
       "      <td>16.0</td>\n",
       "      <td>3801.0</td>\n",
       "      <td>23.0</td>\n",
       "      <td>12.0</td>\n",
       "      <td>17.0</td>\n",
       "      <td>129.0</td>\n",
       "      <td>...</td>\n",
       "      <td>e5ba7672</td>\n",
       "      <td>a673f1fe</td>\n",
       "      <td></td>\n",
       "      <td></td>\n",
       "      <td>0af6c332</td>\n",
       "      <td></td>\n",
       "      <td>32c7478e</td>\n",
       "      <td>30b71e2c</td>\n",
       "      <td></td>\n",
       "      <td></td>\n",
       "    </tr>\n",
       "    <tr>\n",
       "      <th>3</th>\n",
       "      <td>0.0</td>\n",
       "      <td>3.0</td>\n",
       "      <td>19.0</td>\n",
       "      <td>37.0</td>\n",
       "      <td>4.0</td>\n",
       "      <td>622.0</td>\n",
       "      <td>45.0</td>\n",
       "      <td>35.0</td>\n",
       "      <td>15.0</td>\n",
       "      <td>270.0</td>\n",
       "      <td>...</td>\n",
       "      <td>3486227d</td>\n",
       "      <td>1f868fdd</td>\n",
       "      <td>4764bf77</td>\n",
       "      <td>a458ea53</td>\n",
       "      <td>50757f64</td>\n",
       "      <td></td>\n",
       "      <td>32c7478e</td>\n",
       "      <td>a9d2466c</td>\n",
       "      <td>9d93af03</td>\n",
       "      <td>685f2dd2</td>\n",
       "    </tr>\n",
       "    <tr>\n",
       "      <th>4</th>\n",
       "      <td>0.0</td>\n",
       "      <td>0.0</td>\n",
       "      <td>1.0</td>\n",
       "      <td>6.0</td>\n",
       "      <td>5.0</td>\n",
       "      <td>1935.0</td>\n",
       "      <td>13.0</td>\n",
       "      <td>20.0</td>\n",
       "      <td>14.0</td>\n",
       "      <td>76.0</td>\n",
       "      <td>...</td>\n",
       "      <td>3486227d</td>\n",
       "      <td>e88ffc9d</td>\n",
       "      <td>cf99e5de</td>\n",
       "      <td>a458ea53</td>\n",
       "      <td>d8ad7a42</td>\n",
       "      <td></td>\n",
       "      <td>423fab69</td>\n",
       "      <td>defc8ccf</td>\n",
       "      <td>cb079c2d</td>\n",
       "      <td>6867cdf2</td>\n",
       "    </tr>\n",
       "  </tbody>\n",
       "</table>\n",
       "<p>5 rows × 40 columns</p>\n",
       "</div>"
      ],
      "text/plain": [
       "     y   x1    x2     x3    x4       x5    x6    x7    x8     x9  ...  \\\n",
       "0  0.0  0.0   4.0  168.0   NaN  19290.0   NaN   NaN  16.0    NaN  ...   \n",
       "1  0.0  2.0  63.0   13.0   2.0      2.0   2.0   3.0   7.0    2.0  ...   \n",
       "2  0.0  NaN   1.0    6.0  16.0   3801.0  23.0  12.0  17.0  129.0  ...   \n",
       "3  0.0  3.0  19.0   37.0   4.0    622.0  45.0  35.0  15.0  270.0  ...   \n",
       "4  0.0  0.0   1.0    6.0   5.0   1935.0  13.0  20.0  14.0   76.0  ...   \n",
       "\n",
       "        x30       x31       x32       x33       x34 x35       x36       x37  \\\n",
       "0  e5ba7672  f855e3f0  21ddcdc9  5840adea  54bf0a81      be7c41b4  3371d710   \n",
       "1  07c540c4  bc5a0ff7  04de9d96  a458ea53  93ecdb15      32c7478e  80ad7846   \n",
       "2  e5ba7672  a673f1fe                      0af6c332      32c7478e  30b71e2c   \n",
       "3  3486227d  1f868fdd  4764bf77  a458ea53  50757f64      32c7478e  a9d2466c   \n",
       "4  3486227d  e88ffc9d  cf99e5de  a458ea53  d8ad7a42      423fab69  defc8ccf   \n",
       "\n",
       "        x38       x39  \n",
       "0  001f3601  aa5f0a15  \n",
       "1  001f3601  d43d2464  \n",
       "2                      \n",
       "3  9d93af03  685f2dd2  \n",
       "4  cb079c2d  6867cdf2  \n",
       "\n",
       "[5 rows x 40 columns]"
      ]
     },
     "execution_count": 70,
     "metadata": {},
     "output_type": "execute_result"
    }
   ],
   "source": [
    "sample.head()"
   ]
  },
  {
   "cell_type": "code",
   "execution_count": 71,
   "metadata": {},
   "outputs": [
    {
     "data": {
      "text/html": [
       "<div>\n",
       "<style scoped>\n",
       "    .dataframe tbody tr th:only-of-type {\n",
       "        vertical-align: middle;\n",
       "    }\n",
       "\n",
       "    .dataframe tbody tr th {\n",
       "        vertical-align: top;\n",
       "    }\n",
       "\n",
       "    .dataframe thead th {\n",
       "        text-align: right;\n",
       "    }\n",
       "</style>\n",
       "<table border=\"1\" class=\"dataframe\">\n",
       "  <thead>\n",
       "    <tr style=\"text-align: right;\">\n",
       "      <th></th>\n",
       "      <th>y</th>\n",
       "      <th>x1</th>\n",
       "      <th>x2</th>\n",
       "      <th>x3</th>\n",
       "      <th>x4</th>\n",
       "      <th>x5</th>\n",
       "      <th>x6</th>\n",
       "      <th>x7</th>\n",
       "      <th>x8</th>\n",
       "      <th>x9</th>\n",
       "      <th>x10</th>\n",
       "      <th>x11</th>\n",
       "      <th>x12</th>\n",
       "      <th>x13</th>\n",
       "    </tr>\n",
       "  </thead>\n",
       "  <tbody>\n",
       "    <tr>\n",
       "      <th>count</th>\n",
       "      <td>45679.000000</td>\n",
       "      <td>25060.000000</td>\n",
       "      <td>45679.000000</td>\n",
       "      <td>35821.000000</td>\n",
       "      <td>35809.000000</td>\n",
       "      <td>4.451600e+04</td>\n",
       "      <td>35525.000000</td>\n",
       "      <td>43681.000000</td>\n",
       "      <td>45657.000000</td>\n",
       "      <td>43681.000000</td>\n",
       "      <td>25060.000000</td>\n",
       "      <td>43681.000000</td>\n",
       "      <td>10782.000000</td>\n",
       "      <td>35809.000000</td>\n",
       "    </tr>\n",
       "    <tr>\n",
       "      <th>mean</th>\n",
       "      <td>0.256048</td>\n",
       "      <td>3.549920</td>\n",
       "      <td>106.763702</td>\n",
       "      <td>26.597639</td>\n",
       "      <td>7.301488</td>\n",
       "      <td>1.866125e+04</td>\n",
       "      <td>121.979958</td>\n",
       "      <td>16.490259</td>\n",
       "      <td>12.511422</td>\n",
       "      <td>106.333328</td>\n",
       "      <td>0.620591</td>\n",
       "      <td>2.746412</td>\n",
       "      <td>1.071230</td>\n",
       "      <td>8.229635</td>\n",
       "    </tr>\n",
       "    <tr>\n",
       "      <th>std</th>\n",
       "      <td>0.436386</td>\n",
       "      <td>10.378813</td>\n",
       "      <td>392.868225</td>\n",
       "      <td>324.231537</td>\n",
       "      <td>8.671590</td>\n",
       "      <td>6.967927e+04</td>\n",
       "      <td>1037.525146</td>\n",
       "      <td>69.985497</td>\n",
       "      <td>13.848645</td>\n",
       "      <td>217.065140</td>\n",
       "      <td>0.684208</td>\n",
       "      <td>5.124965</td>\n",
       "      <td>5.548083</td>\n",
       "      <td>12.455992</td>\n",
       "    </tr>\n",
       "    <tr>\n",
       "      <th>min</th>\n",
       "      <td>0.000000</td>\n",
       "      <td>0.000000</td>\n",
       "      <td>-2.000000</td>\n",
       "      <td>0.000000</td>\n",
       "      <td>0.000000</td>\n",
       "      <td>0.000000e+00</td>\n",
       "      <td>0.000000</td>\n",
       "      <td>0.000000</td>\n",
       "      <td>0.000000</td>\n",
       "      <td>0.000000</td>\n",
       "      <td>0.000000</td>\n",
       "      <td>0.000000</td>\n",
       "      <td>0.000000</td>\n",
       "      <td>0.000000</td>\n",
       "    </tr>\n",
       "    <tr>\n",
       "      <th>25%</th>\n",
       "      <td>0.000000</td>\n",
       "      <td>0.000000</td>\n",
       "      <td>0.000000</td>\n",
       "      <td>2.000000</td>\n",
       "      <td>2.000000</td>\n",
       "      <td>3.240000e+02</td>\n",
       "      <td>8.000000</td>\n",
       "      <td>1.000000</td>\n",
       "      <td>2.000000</td>\n",
       "      <td>10.000000</td>\n",
       "      <td>0.000000</td>\n",
       "      <td>1.000000</td>\n",
       "      <td>0.000000</td>\n",
       "      <td>2.000000</td>\n",
       "    </tr>\n",
       "    <tr>\n",
       "      <th>50%</th>\n",
       "      <td>0.000000</td>\n",
       "      <td>1.000000</td>\n",
       "      <td>3.000000</td>\n",
       "      <td>6.000000</td>\n",
       "      <td>4.000000</td>\n",
       "      <td>2.803000e+03</td>\n",
       "      <td>33.000000</td>\n",
       "      <td>3.000000</td>\n",
       "      <td>7.000000</td>\n",
       "      <td>39.000000</td>\n",
       "      <td>1.000000</td>\n",
       "      <td>1.000000</td>\n",
       "      <td>0.000000</td>\n",
       "      <td>4.000000</td>\n",
       "    </tr>\n",
       "    <tr>\n",
       "      <th>75%</th>\n",
       "      <td>1.000000</td>\n",
       "      <td>3.000000</td>\n",
       "      <td>35.000000</td>\n",
       "      <td>18.000000</td>\n",
       "      <td>10.000000</td>\n",
       "      <td>1.014900e+04</td>\n",
       "      <td>103.000000</td>\n",
       "      <td>12.000000</td>\n",
       "      <td>19.000000</td>\n",
       "      <td>110.000000</td>\n",
       "      <td>1.000000</td>\n",
       "      <td>3.000000</td>\n",
       "      <td>1.000000</td>\n",
       "      <td>10.000000</td>\n",
       "    </tr>\n",
       "    <tr>\n",
       "      <th>max</th>\n",
       "      <td>1.000000</td>\n",
       "      <td>598.000000</td>\n",
       "      <td>7285.000000</td>\n",
       "      <td>25884.000000</td>\n",
       "      <td>161.000000</td>\n",
       "      <td>2.396848e+06</td>\n",
       "      <td>186387.000000</td>\n",
       "      <td>6328.000000</td>\n",
       "      <td>586.000000</td>\n",
       "      <td>9140.000000</td>\n",
       "      <td>7.000000</td>\n",
       "      <td>101.000000</td>\n",
       "      <td>142.000000</td>\n",
       "      <td>461.000000</td>\n",
       "    </tr>\n",
       "  </tbody>\n",
       "</table>\n",
       "</div>"
      ],
      "text/plain": [
       "                  y            x1            x2            x3            x4  \\\n",
       "count  45679.000000  25060.000000  45679.000000  35821.000000  35809.000000   \n",
       "mean       0.256048      3.549920    106.763702     26.597639      7.301488   \n",
       "std        0.436386     10.378813    392.868225    324.231537      8.671590   \n",
       "min        0.000000      0.000000     -2.000000      0.000000      0.000000   \n",
       "25%        0.000000      0.000000      0.000000      2.000000      2.000000   \n",
       "50%        0.000000      1.000000      3.000000      6.000000      4.000000   \n",
       "75%        1.000000      3.000000     35.000000     18.000000     10.000000   \n",
       "max        1.000000    598.000000   7285.000000  25884.000000    161.000000   \n",
       "\n",
       "                 x5             x6            x7            x8            x9  \\\n",
       "count  4.451600e+04   35525.000000  43681.000000  45657.000000  43681.000000   \n",
       "mean   1.866125e+04     121.979958     16.490259     12.511422    106.333328   \n",
       "std    6.967927e+04    1037.525146     69.985497     13.848645    217.065140   \n",
       "min    0.000000e+00       0.000000      0.000000      0.000000      0.000000   \n",
       "25%    3.240000e+02       8.000000      1.000000      2.000000     10.000000   \n",
       "50%    2.803000e+03      33.000000      3.000000      7.000000     39.000000   \n",
       "75%    1.014900e+04     103.000000     12.000000     19.000000    110.000000   \n",
       "max    2.396848e+06  186387.000000   6328.000000    586.000000   9140.000000   \n",
       "\n",
       "                x10           x11           x12           x13  \n",
       "count  25060.000000  43681.000000  10782.000000  35809.000000  \n",
       "mean       0.620591      2.746412      1.071230      8.229635  \n",
       "std        0.684208      5.124965      5.548083     12.455992  \n",
       "min        0.000000      0.000000      0.000000      0.000000  \n",
       "25%        0.000000      1.000000      0.000000      2.000000  \n",
       "50%        1.000000      1.000000      0.000000      4.000000  \n",
       "75%        1.000000      3.000000      1.000000     10.000000  \n",
       "max        7.000000    101.000000    142.000000    461.000000  "
      ]
     },
     "execution_count": 71,
     "metadata": {},
     "output_type": "execute_result"
    }
   ],
   "source": [
    "sample.describe()"
   ]
  },
  {
   "cell_type": "code",
   "execution_count": 72,
   "metadata": {},
   "outputs": [
    {
     "data": {
      "text/plain": [
       "array([[<matplotlib.axes._subplots.AxesSubplot object at 0x7febe7242b50>,\n",
       "        <matplotlib.axes._subplots.AxesSubplot object at 0x7febeafbb590>,\n",
       "        <matplotlib.axes._subplots.AxesSubplot object at 0x7feba3b28f10>,\n",
       "        <matplotlib.axes._subplots.AxesSubplot object at 0x7feba077bb10>],\n",
       "       [<matplotlib.axes._subplots.AxesSubplot object at 0x7febeab2bdd0>,\n",
       "        <matplotlib.axes._subplots.AxesSubplot object at 0x7feb3cb5a610>,\n",
       "        <matplotlib.axes._subplots.AxesSubplot object at 0x7feb4faace10>,\n",
       "        <matplotlib.axes._subplots.AxesSubplot object at 0x7febe70e3650>],\n",
       "       [<matplotlib.axes._subplots.AxesSubplot object at 0x7febeab401d0>,\n",
       "        <matplotlib.axes._subplots.AxesSubplot object at 0x7feb86a53b50>,\n",
       "        <matplotlib.axes._subplots.AxesSubplot object at 0x7feb3efcde90>,\n",
       "        <matplotlib.axes._subplots.AxesSubplot object at 0x7febf023e6d0>],\n",
       "       [<matplotlib.axes._subplots.AxesSubplot object at 0x7febf0154ed0>,\n",
       "        <matplotlib.axes._subplots.AxesSubplot object at 0x7febeafe0710>,\n",
       "        <matplotlib.axes._subplots.AxesSubplot object at 0x7febeae6ff10>,\n",
       "        <matplotlib.axes._subplots.AxesSubplot object at 0x7febeac34750>]],\n",
       "      dtype=object)"
      ]
     },
     "execution_count": 72,
     "metadata": {},
     "output_type": "execute_result"
    },
    {
     "data": {
      "image/png": "[encoded data removed]",
      "text/plain": [
       "<Figure size 1080x1080 with 16 Axes>"
      ]
     },
     "metadata": {},
     "output_type": "display_data"
    }
   ],
   "source": [
    "sample[INTEGER_FEATURES].hist(figsize=(15,15), bins=15)"
   ]
  },
  {
   "cell_type": "code",
   "execution_count": 73,
   "metadata": {},
   "outputs": [
    {
     "data": {
      "image/png": "[encoded data removed]",
      "text/plain": [
       "<Figure size 1080x1080 with 15 Axes>"
      ]
     },
     "metadata": {},
     "output_type": "display_data"
    }
   ],
   "source": [
    "fig, ax_grid = plt.subplots(5, 3, figsize=(15,15))\n",
    "y = sample['y']\n",
    "for idx, feature in enumerate(INTEGER_FEATURES):\n",
    "    x = sample[feature]\n",
    "    sns.boxplot(x, y, ax=ax_grid[idx//3][idx%3], orient='h', linewidth=.5)\n",
    "    ax_grid[idx//3][idx%3].invert_yaxis()\n",
    "fig.suptitle(\"Individual Features vs. Click Through\", fontsize=15, y=0.9)\n",
    "plt.show()"
   ]
  },
  {
   "cell_type": "code",
   "execution_count": 74,
   "metadata": {},
   "outputs": [
    {
     "data": {
      "image/png": "[encoded data removed]",
      "text/plain": [
       "<Figure size 792x648 with 2 Axes>"
      ]
     },
     "metadata": {},
     "output_type": "display_data"
    }
   ],
   "source": [
    "# plot heatmap for correlations matrix - RUN THIS CELL AS IS\n",
    "corr = sample[INTEGER_FEATURES].corr()\n",
    "fig, ax = plt.subplots(figsize=(11, 9))\n",
    "mask = np.zeros_like(corr, dtype=np.bool)\n",
    "mask[np.triu_indices_from(mask)] = True\n",
    "cmap = sns.diverging_palette(240, 10, as_cmap=True)\n",
    "sns.heatmap(corr, mask=mask, cmap=cmap, center=0, linewidths=.5)\n",
    "plt.title(\"Correlations between features.\")\n",
    "plt.show()"
   ]
  },
  {
   "cell_type": "markdown",
   "metadata": {},
   "source": [
    "# Multi-collinearity Concerns"
   ]
  },
  {
   "cell_type": "markdown",
   "metadata": {},
   "source": [
    "Based on the graphic above, we see that a number of features are correlated with one another.  We see that X4 is correlated to X13, X4 is also somewhat correlated to X8.  X7 is correlated to X11, and X8 is correlated to X13.  From this view, we can make the decision to eliminate X13, X11, and X4 from this analysis because of the condition of no multi-collinearity when using logistic regression."
   ]
  },
  {
   "cell_type": "code",
   "execution_count": 75,
   "metadata": {},
   "outputs": [
    {
     "data": {
      "image/png": "[encoded data removed]",
      "text/plain": [
       "<Figure size 1080x1080 with 30 Axes>"
      ]
     },
     "metadata": {},
     "output_type": "display_data"
    }
   ],
   "source": [
    "# Categorical Data Visualization\n",
    "fig, ax_grid = plt.subplots(6, 5, figsize=(15,15))\n",
    "for idx, feature in enumerate(CATEGORICAL_FEATURES):\n",
    "    x = sample[feature].astype('category').value_counts()\n",
    "    sns.countplot(x, ax=ax_grid[idx//5][idx%5], linewidth=.5)\n",
    "fig.suptitle(\"Individual Features vs. Click Through\", fontsize=15, y=0.9)\n",
    "plt.show()"
   ]
  },
  {
   "cell_type": "code",
   "execution_count": 115,
   "metadata": {},
   "outputs": [
    {
     "name": "stdout",
     "output_type": "stream",
     "text": [
      "\n",
      "... Executed in 181.4345474243164 seconds\n"
     ]
    }
   ],
   "source": [
    "# Count Number of Unique Values\n",
    "start = time.time()\n",
    "distinct = []\n",
    "for col in CATEGORICAL_FEATURES:\n",
    "    distinct.append(set(trainDF.select(col).distinct().rdd.map(lambda x: x[0]).collect()))\n",
    "print(f\"\\n... Executed in {time.time() - start} seconds\")"
   ]
  },
  {
   "cell_type": "code",
   "execution_count": 116,
   "metadata": {},
   "outputs": [
    {
     "name": "stdout",
     "output_type": "stream",
     "text": [
      "Feature: x14 had 1460 unique values\n",
      "Feature: x15 had 583 unique values\n",
      "Feature: x16 had 10131227 unique values\n",
      "Feature: x17 had 2202608 unique values\n",
      "Feature: x18 had 305 unique values\n",
      "Feature: x19 had 24 unique values\n",
      "Feature: x20 had 12517 unique values\n",
      "Feature: x21 had 633 unique values\n",
      "Feature: x22 had 3 unique values\n",
      "Feature: x23 had 93145 unique values\n",
      "Feature: x24 had 5683 unique values\n",
      "Feature: x25 had 8351593 unique values\n",
      "Feature: x26 had 3194 unique values\n",
      "Feature: x27 had 27 unique values\n",
      "Feature: x28 had 14992 unique values\n",
      "Feature: x29 had 5461306 unique values\n",
      "Feature: x30 had 10 unique values\n",
      "Feature: x31 had 5652 unique values\n",
      "Feature: x32 had 2173 unique values\n",
      "Feature: x33 had 4 unique values\n",
      "Feature: x34 had 7046547 unique values\n",
      "Feature: x35 had 18 unique values\n",
      "Feature: x36 had 15 unique values\n",
      "Feature: x37 had 286181 unique values\n",
      "Feature: x38 had 105 unique values\n",
      "Feature: x39 had 142572 unique values\n"
     ]
    }
   ],
   "source": [
    "for item, number in zip(CATEGORICAL_FEATURES, distinct):\n",
    "    print(f\"Feature: {item} had {len(number)} unique values\")"
   ]
  },
  {
   "cell_type": "markdown",
   "metadata": {},
   "source": [
    "From the Above we should probably exclude the features with too many unique values to be able to generalize the data:  \n",
    "x16, x17, x25, x29, x34, and x37.  If we have memory issues we can try excluding x39 and x23, which will also have large numbers of one hot encodings."
   ]
  },
  {
   "cell_type": "markdown",
   "metadata": {},
   "source": [
    "In order to preserve some aspect of this data, we can instead keep the top K values for these specific columns in order to continue to use them in our model.  We will perform this transformation for these specific variables."
   ]
  },
  {
   "cell_type": "code",
   "execution_count": 117,
   "metadata": {},
   "outputs": [],
   "source": [
    "featuresToDrop = set()\n",
    "featuresToDrop.add('x4')\n",
    "featuresToDrop.add('x11')\n",
    "featuresToDrop.add('x13')"
   ]
  },
  {
   "cell_type": "code",
   "execution_count": 118,
   "metadata": {},
   "outputs": [],
   "source": [
    "def keepTopK(df, dftest, K, categoricalColumnstoImpute):\n",
    "    for col in categoricalColumnstoImpute:\n",
    "        mostCommon = df.select(col).groupby(col).count()\\\n",
    "                            .orderBy('count', ascending=False) \\\n",
    "                            .limit(K).collect()\n",
    "            \n",
    "        mostCommonSet = set([x[0] for x in mostCommon])\n",
    "               \n",
    "        df = df.withColumn(col, F.when(~df[col].isin(mostCommonSet), \"RECODED\").otherwise(df[col]))\n",
    "        \n",
    "        dftest = dftest.withColumn(col, F.when(~dftest[col].isin(mostCommonSet), \"RECODED\") \\\n",
    "                        .otherwise(dftest[col]))\n",
    "    \n",
    "    print(\"Successfully Recoded Top K Categorical Values\")\n",
    "    \n",
    "    return (df, dftest)"
   ]
  },
  {
   "cell_type": "code",
   "execution_count": 119,
   "metadata": {},
   "outputs": [],
   "source": [
    "# start = time.time()\n",
    "# trainDF, testDF = keepTopK(trainDF, testDF, 10, ['x16', 'x17', 'x25', 'x29', 'x34', 'x37'])\n",
    "# print(f\"\\n... Executed in {time.time() - start} seconds\")"
   ]
  },
  {
   "cell_type": "code",
   "execution_count": 120,
   "metadata": {},
   "outputs": [
    {
     "name": "stdout",
     "output_type": "stream",
     "text": [
      "Successfully Recoded Top K Categorical Values\n",
      "\n",
      "... Executed in 100.38571691513062 seconds\n"
     ]
    }
   ],
   "source": [
    "start = time.time()\n",
    "trainDF, testDF = keepTopK(trainDF, testDF, 100, CATEGORICAL_FEATURES)\n",
    "print(f\"\\n... Executed in {time.time() - start} seconds\")"
   ]
  },
  {
   "cell_type": "markdown",
   "metadata": {},
   "source": [
    "# Now We Check Our Categorical Counts Again To Verify that we Recoded Our Selected Columns"
   ]
  },
  {
   "cell_type": "code",
   "execution_count": 121,
   "metadata": {},
   "outputs": [
    {
     "name": "stdout",
     "output_type": "stream",
     "text": [
      "\n",
      "... Executed in 154.48245477676392 seconds\n"
     ]
    }
   ],
   "source": [
    "# Count Number of Unique Values\n",
    "start = time.time()\n",
    "distinct = []\n",
    "for col in CATEGORICAL_FEATURES:\n",
    "    distinct.append(set(trainDF.select(col).distinct().rdd.map(lambda x: x[0]).collect()))\n",
    "print(f\"\\n... Executed in {time.time() - start} seconds\")"
   ]
  },
  {
   "cell_type": "code",
   "execution_count": 122,
   "metadata": {},
   "outputs": [
    {
     "name": "stdout",
     "output_type": "stream",
     "text": [
      "Feature: x14 had 101 unique values\n",
      "Feature: x15 had 101 unique values\n",
      "Feature: x16 had 101 unique values\n",
      "Feature: x17 had 101 unique values\n",
      "Feature: x18 had 101 unique values\n",
      "Feature: x19 had 24 unique values\n",
      "Feature: x20 had 101 unique values\n",
      "Feature: x21 had 101 unique values\n",
      "Feature: x22 had 3 unique values\n",
      "Feature: x23 had 101 unique values\n",
      "Feature: x24 had 101 unique values\n",
      "Feature: x25 had 101 unique values\n",
      "Feature: x26 had 101 unique values\n",
      "Feature: x27 had 27 unique values\n",
      "Feature: x28 had 101 unique values\n",
      "Feature: x29 had 101 unique values\n",
      "Feature: x30 had 10 unique values\n",
      "Feature: x31 had 101 unique values\n",
      "Feature: x32 had 101 unique values\n",
      "Feature: x33 had 4 unique values\n",
      "Feature: x34 had 101 unique values\n",
      "Feature: x35 had 18 unique values\n",
      "Feature: x36 had 15 unique values\n",
      "Feature: x37 had 101 unique values\n",
      "Feature: x38 had 101 unique values\n",
      "Feature: x39 had 101 unique values\n"
     ]
    }
   ],
   "source": [
    "for item, number in zip(CATEGORICAL_FEATURES, distinct):\n",
    "    print(f\"Feature: {item} had {len(number)} unique values\")"
   ]
  },
  {
   "cell_type": "code",
   "execution_count": 123,
   "metadata": {},
   "outputs": [],
   "source": [
    "distinctDict = dict((k, v) for k, v  in zip(CATEGORICAL_FEATURES, distinct))"
   ]
  },
  {
   "cell_type": "markdown",
   "metadata": {},
   "source": [
    "# We Will Need to Impute Values rather than Filling with 0's"
   ]
  },
  {
   "cell_type": "markdown",
   "metadata": {},
   "source": [
    "Here we will impute the mean for missing values for numerical features.  In the case of categorical features, we will impute the most common instance for that categorical feature.  If the most common feature is a missing value, we will create a new \"empty\" variable that will hold the place for this circumstance.  In the case that the test data has unseen categorical values, we will replace those with the empty string and allow the impute function to fill these values."
   ]
  },
  {
   "cell_type": "code",
   "execution_count": 124,
   "metadata": {},
   "outputs": [],
   "source": [
    "def imputeValues(df, dftest):\n",
    "    categoricalColumnstoImpute = [col for col in CATEGORICAL_FEATURES if col not in featuresToDrop]\n",
    "    \n",
    "    # Impute numerical features\n",
    "    for col in INTEGER_FEATURES[1:]:\n",
    "        mean = df.select(col).agg({col:'mean'}).collect()[0][0]\n",
    "        print(f\"Column {col} has mean {mean}\")\n",
    "        df = df.withColumn(col, F.when(df[col].isNull(), mean).otherwise(df[col]))\n",
    "        dftest = dftest.withColumn(col, F.when(dftest[col].isNull(), mean).otherwise(dftest[col]))\n",
    "    print(\"Successfully Imputed Numerical Values\")\n",
    "\n",
    "    # Impute categorical features\n",
    "    for col in categoricalColumnstoImpute:\n",
    "        mostCommon = df.select(col).groupby(col).count()\\\n",
    "                            .orderBy('count', ascending=False) \\\n",
    "                            .limit(1).collect()[0][0]\n",
    "        if mostCommon == \"\":\n",
    "            mostCommon = \"EMPTY\"\n",
    "        \n",
    "        print(f\"Column {col} has most common {mostCommon}\")\n",
    "        \n",
    "        df = df.withColumn(col, F.when((df[col].isNull() | (df[col] == '')), mostCommon) \\\n",
    "                                .otherwise(df[col]))\n",
    "        \n",
    "        dftest = dftest.withColumn(col, F.when((dftest[col].isNull() | (dftest[col] == '') | (~dftest[col].isin(distinctDict[col]))), mostCommon) \\\n",
    "                        .otherwise(dftest[col]))\n",
    "    print(\"Successfully Imputed Categorical Values\")\n",
    "    \n",
    "    # Assure there is no missing values\n",
    "    for col in INTEGER_FEATURES[1:] + categoricalColumnstoImpute:\n",
    "        assert df.filter(df[col].isNull()).count() == 0, f\"Column {col} contains NULL value(s)\"\n",
    "        assert df.filter(df[col] == '').count() == 0, f\"Column {col} contains empty string(s)\"\n",
    "    \n",
    "        assert dftest.filter(dftest[col].isNull()).count() == 0, f\"Column {col} contains NULL value(s)\"\n",
    "        assert dftest.filter(dftest[col] == '').count() == 0, f\"Column {col} contains empty string(s)\"\n",
    "    \n",
    "    print(\"Successfully Imputed All Values and Passed Tests\")\n",
    "    return (df, dftest)"
   ]
  },
  {
   "cell_type": "code",
   "execution_count": 125,
   "metadata": {},
   "outputs": [
    {
     "name": "stdout",
     "output_type": "stream",
     "text": [
      "Column x1 has mean 3.5024133170754044\n",
      "Column x2 has mean 105.84841979766546\n",
      "Column x3 has mean 26.913041020611274\n",
      "Column x4 has mean 7.322680248873305\n",
      "Column x5 has mean 18538.991664871523\n",
      "Column x6 has mean 116.06185085211598\n",
      "Column x7 has mean 16.333130032135028\n",
      "Column x8 has mean 12.517042137556713\n",
      "Column x9 has mean 106.1098234380509\n",
      "Column x10 has mean 0.6175294977722137\n",
      "Column x11 has mean 2.7328343170173044\n",
      "Column x12 has mean 0.9910356287721244\n",
      "Column x13 has mean 8.217461161174054\n",
      "Successfully Imputed Numerical Values\n",
      "Column x14 has most common 05db9164\n",
      "Column x15 has most common RECODED\n",
      "Column x16 has most common RECODED\n",
      "Column x17 has most common RECODED\n",
      "Column x18 has most common 25c83c98\n",
      "Column x19 has most common 7e0ccccf\n",
      "Column x20 has most common RECODED\n",
      "Column x21 has most common 0b153874\n",
      "Column x22 has most common a73ee510\n",
      "Column x23 has most common RECODED\n",
      "Column x24 has most common RECODED\n",
      "Column x25 has most common RECODED\n",
      "Column x26 has most common RECODED\n",
      "Column x27 has most common b28479f6\n",
      "Column x28 has most common RECODED\n",
      "Column x29 has most common RECODED\n",
      "Column x30 has most common e5ba7672\n",
      "Column x31 has most common RECODED\n",
      "Column x32 has most common EMPTY\n",
      "Column x33 has most common EMPTY\n",
      "Column x34 has most common RECODED\n",
      "Column x35 has most common EMPTY\n",
      "Column x36 has most common 32c7478e\n",
      "Column x37 has most common RECODED\n",
      "Column x38 has most common EMPTY\n",
      "Column x39 has most common EMPTY\n",
      "Successfully Imputed Categorical Values\n",
      "Successfully Imputed All Values and Passed Tests\n",
      "\n",
      "... Executed in 340.38628220558167 seconds\n"
     ]
    }
   ],
   "source": [
    "start = time.time()\n",
    "trainDF, testDF = imputeValues(trainDF, testDF)\n",
    "print(f\"\\n... Executed in {time.time() - start} seconds\")"
   ]
  },
  {
   "cell_type": "markdown",
   "metadata": {},
   "source": [
    "We then write these new files to parquet so that we do not need to execute these commands in our future analysis in the case of our machine crashing."
   ]
  },
  {
   "cell_type": "code",
   "execution_count": 126,
   "metadata": {},
   "outputs": [
    {
     "name": "stdout",
     "output_type": "stream",
     "text": [
      "\n",
      "... Executed in 456.99630641937256 seconds\n"
     ]
    }
   ],
   "source": [
    "start = time.time()\n",
    "trainDF.write.parquet('trainImputed.parquet')\n",
    "testDF.write.parquet('testImputed.parquet')\n",
    "print(f\"\\n... Executed in {time.time() - start} seconds\")"
   ]
  },
  {
   "cell_type": "code",
   "execution_count": 127,
   "metadata": {},
   "outputs": [
    {
     "name": "stdout",
     "output_type": "stream",
     "text": [
      "\n",
      "... Executed in 0.06833910942077637 seconds\n"
     ]
    }
   ],
   "source": [
    "start = time.time()\n",
    "trainDF = sqlContext.read.parquet('trainImputed.parquet')\n",
    "testDF = sqlContext.read.parquet('testImputed.parquet')\n",
    "print(f\"\\n... Executed in {time.time() - start} seconds\")"
   ]
  },
  {
   "cell_type": "code",
   "execution_count": 128,
   "metadata": {},
   "outputs": [
    {
     "name": "stdout",
     "output_type": "stream",
     "text": [
      "\n",
      "... Executed in 0.04037213325500488 seconds\n"
     ]
    }
   ],
   "source": [
    "start = time.time()\n",
    "\n",
    "assembler = VectorAssembler(inputCols = [feature for feature in INTEGER_FEATURES if feature not in featuresToDrop][1:], outputCol = 'integerFeatures')\n",
    "trainDF = assembler.transform(trainDF)\n",
    "testDF = assembler.transform(testDF)\n",
    "\n",
    "print(f\"\\n... Executed in {time.time() - start} seconds\")"
   ]
  },
  {
   "cell_type": "code",
   "execution_count": 129,
   "metadata": {},
   "outputs": [],
   "source": [
    "featuresToDrop = featuresToDrop.union(set(INTEGER_FEATURES[1:]))"
   ]
  },
  {
   "cell_type": "code",
   "execution_count": 130,
   "metadata": {},
   "outputs": [],
   "source": [
    "# Drop the Integer Columns\n",
    "trainDF = trainDF.select([c for c in trainDF.columns if c not in featuresToDrop])\n",
    "testDF = testDF.select([c for c in testDF.columns if c not in featuresToDrop])"
   ]
  },
  {
   "cell_type": "markdown",
   "metadata": {},
   "source": [
    "# Now we Will Apply One Hot Encoding and Scale Our Features for Use With Regularization"
   ]
  },
  {
   "cell_type": "code",
   "execution_count": 131,
   "metadata": {},
   "outputs": [],
   "source": [
    "OHE_CATEGORICAL_FEATURES =  set(CATEGORICAL_FEATURES)-featuresToDrop # Remaining Categorical Features for the One hot encoding"
   ]
  },
  {
   "cell_type": "code",
   "execution_count": 132,
   "metadata": {},
   "outputs": [],
   "source": [
    "# Based on Code from: https://chih-ling-hsu.github.io/2018/09/17/spark-mllib\n",
    "\n",
    "def makePreprocessor(df):\n",
    "    # String Indexing for categorical features\n",
    "    indexers = [StringIndexer(inputCol=col, \n",
    "                              outputCol=\"{}_idx\".format(col)) \\\n",
    "                              for col in OHE_CATEGORICAL_FEATURES]\n",
    "    \n",
    "    # One-hot encoding for categorical features\n",
    "    encoders = [OneHotEncoder(inputCol=\"{}_idx\".format(col), \n",
    "                              outputCol=\"{}_oh\".format(col)) \\\n",
    "                              for col in OHE_CATEGORICAL_FEATURES]\n",
    "\n",
    "    # Concat Feature Columns\n",
    "    assembler = VectorAssembler(inputCols = [\"integerFeatures\"] + \\\n",
    "                            [\"{}_oh\".format(col) for col in OHE_CATEGORICAL_FEATURES], \n",
    "                            outputCol = \"scaledFeatures\")\n",
    "     # Scale Features\n",
    "    scaler = MaxAbsScaler(inputCol='scaledFeatures', \n",
    "                            outputCol='features')\n",
    "    \n",
    "    preprocessor = Pipeline(stages = indexers + encoders + [assembler, scaler]).fit(df)\n",
    "\n",
    "    return preprocessor"
   ]
  },
  {
   "cell_type": "code",
   "execution_count": 133,
   "metadata": {},
   "outputs": [
    {
     "name": "stdout",
     "output_type": "stream",
     "text": [
      "\n",
      "... Executed in 357.3689579963684 seconds\n"
     ]
    }
   ],
   "source": [
    "start = time.time()\n",
    "# Pre-Process All Training Data\n",
    "preprocessor = makePreprocessor(trainDF)   \n",
    "print(f\"\\n... Executed in {time.time() - start} seconds\")"
   ]
  },
  {
   "cell_type": "code",
   "execution_count": 134,
   "metadata": {},
   "outputs": [
    {
     "name": "stdout",
     "output_type": "stream",
     "text": [
      "\n",
      "... Executed in 0.39841628074645996 seconds\n"
     ]
    }
   ],
   "source": [
    "start = time.time()\n",
    "trainDF = preprocessor.transform(trainDF)\n",
    "print(f\"\\n... Executed in {time.time() - start} seconds\")"
   ]
  },
  {
   "cell_type": "code",
   "execution_count": 135,
   "metadata": {},
   "outputs": [
    {
     "name": "stdout",
     "output_type": "stream",
     "text": [
      "\n",
      "... Executed in 0.42321062088012695 seconds\n"
     ]
    }
   ],
   "source": [
    "start = time.time()\n",
    "testDF = preprocessor.transform(testDF)\n",
    "print(f\"\\n... Executed in {time.time() - start} seconds\")"
   ]
  },
  {
   "cell_type": "markdown",
   "metadata": {},
   "source": [
    "We will now drop all the features except for what we will use in our model "
   ]
  },
  {
   "cell_type": "code",
   "execution_count": 136,
   "metadata": {},
   "outputs": [],
   "source": [
    "OHE_CATEGORICAL_FEATURES_idx = [f\"{col}_idx\" for col in OHE_CATEGORICAL_FEATURES]\n",
    "OHE_CATEGORICAL_FEATURES_oh = [f\"{col}_oh\" for col in OHE_CATEGORICAL_FEATURES]\n",
    "\n",
    "featuresToDrop = featuresToDrop.union(set(OHE_CATEGORICAL_FEATURES))\\\n",
    "                                .union(set(OHE_CATEGORICAL_FEATURES_idx))\\\n",
    "                                .union(set(OHE_CATEGORICAL_FEATURES_oh))\n",
    "featuresToDrop.add('scaledFeatures')\n",
    "featuresToDrop.add('integerFeatures')"
   ]
  },
  {
   "cell_type": "code",
   "execution_count": 137,
   "metadata": {},
   "outputs": [],
   "source": [
    "# Drop the Other Feature Columns We Will Not Use\n",
    "trainDF = trainDF.select([c for c in trainDF.columns if c not in featuresToDrop])\n",
    "testDF = testDF.select([c for c in testDF.columns if c not in featuresToDrop])"
   ]
  },
  {
   "cell_type": "markdown",
   "metadata": {},
   "source": [
    "### Now we can write to a parquet File so that we should only need to work on our model now"
   ]
  },
  {
   "cell_type": "code",
   "execution_count": 138,
   "metadata": {},
   "outputs": [
    {
     "name": "stdout",
     "output_type": "stream",
     "text": [
      "\n",
      "... Executed in 435.3749771118164 seconds\n"
     ]
    }
   ],
   "source": [
    "start = time.time()\n",
    "trainDF.write.parquet('train_for_model.parquet')\n",
    "testDF.write.parquet('test_for_model.parquet')\n",
    "print(f\"\\n... Executed in {time.time() - start} seconds\")"
   ]
  },
  {
   "cell_type": "markdown",
   "metadata": {},
   "source": [
    "# Now We can Load our Parquet as a checkpoint and Will Evaluate Using Logistic Regression with A Grid Search"
   ]
  },
  {
   "cell_type": "code",
   "execution_count": 139,
   "metadata": {},
   "outputs": [],
   "source": [
    "# imports\n",
    "import re\n",
    "import ast\n",
    "import time\n",
    "import numpy as np\n",
    "import pandas as pd\n",
    "import seaborn as sns\n",
    "import networkx as nx\n",
    "import matplotlib.pyplot as plt\n",
    "from pyspark import SparkContext\n",
    "from pyspark.sql import SQLContext\n",
    "from pyspark.sql.types import *\n",
    "import sys\n",
    "from pyspark.sql import SQLContext\n",
    "from pyspark.ml.feature import VectorAssembler\n",
    "import pyspark.sql.functions as F\n",
    "from pyspark.mllib.util import MLUtils\n",
    "from pyspark.ml.feature import StandardScaler, MinMaxScaler, MaxAbsScaler\n",
    "from pyspark.sql import SparkSession\n",
    "from pyspark.ml.feature import OneHotEncoderEstimator, OneHotEncoderModel\n",
    "from pyspark.ml.feature import OneHotEncoder, StringIndexer, StandardScaler, Imputer, VectorAssembler, SQLTransformer\n",
    "from pyspark.ml import Pipeline, PipelineModel\n",
    "from pyspark.ml.classification import LogisticRegression\n",
    "from pyspark.ml.evaluation import RegressionEvaluator\n",
    "from pyspark.ml.evaluation import BinaryClassificationEvaluator\n",
    "from pyspark.ml.tuning import CrossValidator, ParamGridBuilder, CrossValidatorModel\n",
    "from pyspark.mllib.evaluation import BinaryClassificationMetrics, MulticlassMetrics"
   ]
  },
  {
   "cell_type": "code",
   "execution_count": 140,
   "metadata": {},
   "outputs": [],
   "source": [
    "# start Spark Session\n",
    "app_name = \"final_project_notebook\"\n",
    "master = \"local[*]\"\n",
    "spark = SparkSession\\\n",
    "        .builder\\\n",
    "        .appName(app_name)\\\n",
    "        .master(master)\\\n",
    "        .getOrCreate()"
   ]
  },
  {
   "cell_type": "code",
   "execution_count": 141,
   "metadata": {},
   "outputs": [],
   "source": [
    "sc = spark.sparkContext\n",
    "sqlContext = SQLContext(sc)"
   ]
  },
  {
   "cell_type": "code",
   "execution_count": 142,
   "metadata": {},
   "outputs": [
    {
     "name": "stdout",
     "output_type": "stream",
     "text": [
      "\n",
      "... Executed in 0.06791448593139648 seconds\n"
     ]
    }
   ],
   "source": [
    "start = time.time()\n",
    "trainDF = sqlContext.read.parquet('train_for_model.parquet')\n",
    "testDF = sqlContext.read.parquet('test_for_model.parquet')\n",
    "print(f\"\\n... Executed in {time.time() - start} seconds\")"
   ]
  },
  {
   "cell_type": "code",
   "execution_count": 143,
   "metadata": {},
   "outputs": [
    {
     "name": "stdout",
     "output_type": "stream",
     "text": [
      "Assigned 36672829 for training. Assigned 9167788 for Validation.\n",
      "\n",
      "... Executed in 195.44548678398132 seconds\n"
     ]
    }
   ],
   "source": [
    "# Generate 80/20 (pseudo)random train/test split \n",
    "start = time.time()\n",
    "trainDF, validDF = trainDF.randomSplit([0.8,0.2], seed = 1)\n",
    "print(f\"Assigned {trainDF.count()} for training. Assigned {validDF.count()} for Validation.\")\n",
    "print(f\"\\n... Executed in {time.time() - start} seconds\")"
   ]
  },
  {
   "cell_type": "code",
   "execution_count": 167,
   "metadata": {},
   "outputs": [
    {
     "name": "stdout",
     "output_type": "stream",
     "text": [
      "\n",
      "... Executed in 302.21872544288635 seconds\n"
     ]
    }
   ],
   "source": [
    "start = time.time()\n",
    "lr = LogisticRegression(featuresCol = 'features', labelCol='y', maxIter=1000, regParam=1.5)\n",
    "lr_model = lr.fit(trainDF)\n",
    "lr_train_predictions = lr_model.transform(trainDF)\n",
    "lr_valid_predictions = lr_model.transform(validDF)\n",
    "lr_test_predictions = lr_model.transform(testDF)\n",
    "print(f\"\\n... Executed in {time.time() - start} seconds\")"
   ]
  },
  {
   "cell_type": "code",
   "execution_count": 168,
   "metadata": {},
   "outputs": [
    {
     "name": "stdout",
     "output_type": "stream",
     "text": [
      "Area Under Precision Recall Curve on Train data = 0.511454730430641\n",
      "Area Under Precision Recall Curve on Validation data = 0.5118248954406841\n",
      "\n",
      "... Executed in 220.62927985191345 seconds\n"
     ]
    }
   ],
   "source": [
    "start = time.time()\n",
    "lr_evaluator = BinaryClassificationEvaluator(labelCol=\"y\", rawPredictionCol=\"prediction\",metricName=\"areaUnderPR\")\n",
    "\n",
    "trainAUPR = lr_evaluator.evaluate(lr_train_predictions)\n",
    "validAUPR = lr_evaluator.evaluate(lr_valid_predictions)\n",
    "print(f\"Area Under Precision Recall Curve on Train data = {trainAUPR}\")\n",
    "print(f\"Area Under Precision Recall Curve on Validation data = {validAUPR}\")\n",
    "print(f\"\\n... Executed in {time.time() - start} seconds\")"
   ]
  },
  {
   "cell_type": "markdown",
   "metadata": {},
   "source": [
    "# Trying a Random Forest"
   ]
  },
  {
   "cell_type": "code",
   "execution_count": 146,
   "metadata": {},
   "outputs": [],
   "source": [
    "from pyspark.ml.classification import RandomForestClassifier"
   ]
  },
  {
   "cell_type": "code",
   "execution_count": 150,
   "metadata": {},
   "outputs": [
    {
     "name": "stdout",
     "output_type": "stream",
     "text": [
      "\n",
      "... Executed in 13551.50096321106 seconds\n"
     ]
    }
   ],
   "source": [
    "start = time.time()\n",
    "rf = RandomForestClassifier(labelCol=\"y\", featuresCol=\"features\", numTrees=100)\n",
    "rf_model = rf.fit(trainDF)\n",
    "rf_train_predictions = rf_model.transform(trainDF)\n",
    "rf_valid_predictions = rf_model.transform(validDF)\n",
    "rf_test_predictions = rf_model.transform(testDF)\n",
    "print(f\"\\n... Executed in {time.time() - start} seconds\")"
   ]
  },
  {
   "cell_type": "code",
   "execution_count": 151,
   "metadata": {},
   "outputs": [
    {
     "name": "stdout",
     "output_type": "stream",
     "text": [
      "Area Under Precision Recall Curve on Train data = 0.2562232381908688\n",
      "Area Under Precision Recall Curve on Validation data = 0.25622396591195173\n",
      "\n",
      "... Executed in 1131.6167435646057 seconds\n"
     ]
    }
   ],
   "source": [
    "start = time.time()\n",
    "rf_evaluator = BinaryClassificationEvaluator(labelCol=\"y\", rawPredictionCol=\"prediction\",metricName=\"areaUnderPR\")\n",
    "\n",
    "trainAUPR = rf_evaluator.evaluate(rf_train_predictions)\n",
    "validAUPR = rf_evaluator.evaluate(rf_valid_predictions)\n",
    "print(f\"Area Under Precision Recall Curve on Train data = {trainAUPR}\")\n",
    "print(f\"Area Under Precision Recall Curve on Validation data = {validAUPR}\")\n",
    "print(f\"\\n... Executed in {time.time() - start} seconds\")"
   ]
  },
  {
   "cell_type": "markdown",
   "metadata": {},
   "source": [
    "# Trying a Gradient Boosted Tree"
   ]
  },
  {
   "cell_type": "code",
   "execution_count": 154,
   "metadata": {},
   "outputs": [],
   "source": [
    "from pyspark.ml.classification import GBTClassifier"
   ]
  },
  {
   "cell_type": "code",
   "execution_count": 155,
   "metadata": {},
   "outputs": [
    {
     "name": "stdout",
     "output_type": "stream",
     "text": [
      "\n",
      "... Executed in 195144.54537200928 seconds\n"
     ]
    }
   ],
   "source": [
    "start = time.time()\n",
    "gbt = GBTClassifier(labelCol=\"y\", featuresCol=\"features\", maxIter=100)\n",
    "gbt_model = gbt.fit(trainDF)\n",
    "gbt_train_predictions = gbt_model.transform(trainDF)\n",
    "gbt_valid_predictions = gbt_model.transform(validDF)\n",
    "gbt_test_predictions = gbt_model.transform(testDF)\n",
    "print(f\"\\n... Executed in {time.time() - start} seconds\")"
   ]
  },
  {
   "cell_type": "code",
   "execution_count": 156,
   "metadata": {},
   "outputs": [
    {
     "name": "stdout",
     "output_type": "stream",
     "text": [
      "Area Under Precision Recall Curve on Train data = 0.4945870670790396\n",
      "Area Under Precision Recall Curve on Validation data = 0.49410177103923014\n",
      "\n",
      "... Executed in 372.9572768211365 seconds\n"
     ]
    }
   ],
   "source": [
    "start = time.time()\n",
    "gbt_evaluator = BinaryClassificationEvaluator(labelCol=\"y\", rawPredictionCol=\"prediction\",metricName=\"areaUnderPR\")\n",
    "\n",
    "trainAUPR = gbt_evaluator.evaluate(gbt_train_predictions)\n",
    "validAUPR = gbt_evaluator.evaluate(gbt_valid_predictions)\n",
    "print(f\"Area Under Precision Recall Curve on Train data = {trainAUPR}\")\n",
    "print(f\"Area Under Precision Recall Curve on Validation data = {validAUPR}\")\n",
    "print(f\"\\n... Executed in {time.time() - start} seconds\")"
   ]
  },
  {
   "cell_type": "code",
   "execution_count": 158,
   "metadata": {},
   "outputs": [
    {
     "name": "stdout",
     "output_type": "stream",
     "text": [
      "\n",
      "... Executed in 0.7956719398498535 seconds\n"
     ]
    }
   ],
   "source": [
    "start = time.time()\n",
    "gbt_model.save(\"gbt_best_model\")\n",
    "print(f\"\\n... Executed in {time.time() - start} seconds\")"
   ]
  },
  {
   "cell_type": "markdown",
   "metadata": {},
   "source": [
    "# K Fold Cross Validation"
   ]
  },
  {
   "cell_type": "code",
   "execution_count": 41,
   "metadata": {},
   "outputs": [
    {
     "name": "stdout",
     "output_type": "stream",
     "text": [
      "\n",
      "... Executed in 18905.01717185974 seconds\n"
     ]
    }
   ],
   "source": [
    "start = time.time()\n",
    "lr = LogisticRegression(featuresCol = 'features', labelCol='y', maxIter=100)\n",
    "    \n",
    "# Train the 10-fold Cross Validator\n",
    "cvModel = CrossValidator(estimator=Pipeline(stages = [lr]),\n",
    "            estimatorParamMaps=ParamGridBuilder() \\\n",
    "                                .addGrid(lr.regParam, [1.5, 1.0, 0.5]) \\\n",
    "                                .addGrid(lr.elasticNetParam, [0.0, 0.1, 0.5, 0.8, 1.0]) \\\n",
    "                                .build(),\n",
    "            evaluator=BinaryClassificationEvaluator(labelCol=\"y\", rawPredictionCol=\"prediction\",metricName=\"areaUnderPR\"),numFolds=10).fit(trainDF)\n",
    "\n",
    "print(f\"\\n... Executed in {time.time() - start} seconds\")"
   ]
  },
  {
   "cell_type": "code",
   "execution_count": 42,
   "metadata": {},
   "outputs": [
    {
     "name": "stdout",
     "output_type": "stream",
     "text": [
      "Best Model Parameters:\n",
      "Reg Param: 1.5, Max Iterations: 100, Elastic Net Param: 0.0\n"
     ]
    }
   ],
   "source": [
    "regParam = cvModel.bestModel.stages[-1]._java_obj.getRegParam()\n",
    "maxIter = cvModel.bestModel.stages[-1]._java_obj.getMaxIter()\n",
    "elasticNetParam = cvModel.bestModel.stages[-1]._java_obj.getElasticNetParam()\n",
    "print(\"Best Model Parameters:\")\n",
    "print(f\"Reg Param: {regParam}, Max Iterations: {maxIter}, Elastic Net Param: {elasticNetParam}\")"
   ]
  },
  {
   "cell_type": "markdown",
   "metadata": {},
   "source": [
    "After running the logistic regression grid search, from the selected parameters we saw the best model using a regularization parameter of 1.5, and an elastic net parameter of 0.  We can continue to refine our regularization parameter by running another grid search over a smaller area."
   ]
  },
  {
   "cell_type": "code",
   "execution_count": 44,
   "metadata": {},
   "outputs": [
    {
     "name": "stdout",
     "output_type": "stream",
     "text": [
      "\n",
      "... Executed in 19242.73370909691 seconds\n"
     ]
    }
   ],
   "source": [
    "start = time.time()\n",
    "lr = LogisticRegression(featuresCol = 'features', labelCol='y', maxIter=100)\n",
    "    \n",
    "# Train the 10-fold Cross Validator\n",
    "cvModel = CrossValidator(estimator=Pipeline(stages = [lr]),\n",
    "            estimatorParamMaps=ParamGridBuilder() \\\n",
    "                                .addGrid(lr.regParam, [2.0, 1.75, 1.50, 1.25, 1.0]) \\\n",
    "                                .build(),\n",
    "            evaluator=BinaryClassificationEvaluator(labelCol=\"y\", rawPredictionCol=\"prediction\",metricName=\"areaUnderPR\"),numFolds=10).fit(trainDF)\n",
    "\n",
    "print(f\"\\n... Executed in {time.time() - start} seconds\")"
   ]
  },
  {
   "cell_type": "code",
   "execution_count": 45,
   "metadata": {},
   "outputs": [
    {
     "name": "stdout",
     "output_type": "stream",
     "text": [
      "Best Model Parameters:\n",
      "Reg Param: 1.5, Max Iterations: 100, Elastic Net Param: 0.0\n"
     ]
    }
   ],
   "source": [
    "regParam = cvModel.bestModel.stages[-1]._java_obj.getRegParam()\n",
    "maxIter = cvModel.bestModel.stages[-1]._java_obj.getMaxIter()\n",
    "elasticNetParam = cvModel.bestModel.stages[-1]._java_obj.getElasticNetParam()\n",
    "print(\"Best Model Parameters:\")\n",
    "print(f\"Reg Param: {regParam}, Max Iterations: {maxIter}, Elastic Net Param: {elasticNetParam}\")"
   ]
  },
  {
   "cell_type": "markdown",
   "metadata": {},
   "source": [
    "Now we select our model parameters and train with a much higher maximum iteration"
   ]
  },
  {
   "cell_type": "code",
   "execution_count": 46,
   "metadata": {},
   "outputs": [
    {
     "name": "stdout",
     "output_type": "stream",
     "text": [
      "\n",
      "... Executed in 4579.929152011871 seconds\n"
     ]
    }
   ],
   "source": [
    "start = time.time()\n",
    "lr = LogisticRegression(featuresCol = 'features', labelCol='y', regParam=1.5, maxIter=10**4)\n",
    "    \n",
    "# Train the 10-fold Cross Validator\n",
    "cvModel = CrossValidator(estimator=Pipeline(stages = [lr]),\n",
    "            estimatorParamMaps=ParamGridBuilder() \\\n",
    "                                .build(),\n",
    "            evaluator=BinaryClassificationEvaluator(labelCol=\"y\", rawPredictionCol=\"prediction\",metricName=\"areaUnderPR\"),numFolds=10).fit(trainDF)\n",
    "\n",
    "print(f\"\\n... Executed in {time.time() - start} seconds\")"
   ]
  },
  {
   "cell_type": "code",
   "execution_count": 47,
   "metadata": {},
   "outputs": [
    {
     "name": "stdout",
     "output_type": "stream",
     "text": [
      "\n",
      "... Executed in 0.5130650997161865 seconds\n"
     ]
    }
   ],
   "source": [
    "start = time.time()\n",
    "cvModel.bestModel.save(\"best_model\")\n",
    "print(f\"\\n... Executed in {time.time() - start} seconds\")"
   ]
  },
  {
   "cell_type": "markdown",
   "metadata": {},
   "source": [
    "## Load The Best Model"
   ]
  },
  {
   "cell_type": "code",
   "execution_count": 48,
   "metadata": {},
   "outputs": [],
   "source": [
    "# start = time.time()\n",
    "# cvModel = PipelineModel.load(\"best_model\")\n",
    "# print(f\"\\n... Executed in {time.time() - start} seconds\")"
   ]
  },
  {
   "cell_type": "code",
   "execution_count": 49,
   "metadata": {},
   "outputs": [
    {
     "name": "stdout",
     "output_type": "stream",
     "text": [
      "\n",
      "... Executed in 0.04922294616699219 seconds\n"
     ]
    }
   ],
   "source": [
    "start = time.time()\n",
    "trainPredsAndLabels = cvModel.transform(trainDF)\n",
    "validPredsAndLabels = cvModel.transform(validDF)\n",
    "testPredsAndLabels = cvModel.transform(testDF)\n",
    "print(f\"\\n... Executed in {time.time() - start} seconds\")"
   ]
  },
  {
   "cell_type": "markdown",
   "metadata": {},
   "source": [
    "# Evaluate Our Best Model with Selected Metrics"
   ]
  },
  {
   "cell_type": "code",
   "execution_count": 50,
   "metadata": {},
   "outputs": [],
   "source": [
    "def evaluateModel(predictionAndLabels):\n",
    "    \n",
    "    resultsDict = dict()\n",
    "    \n",
    "    # Area Under ROC\n",
    "    evaluator = BinaryClassificationEvaluator(labelCol=\"y\", rawPredictionCol=\"prediction\", metricName=\"areaUnderROC\")\n",
    "    areaUnderROC = evaluator.evaluate(predictionAndLabels)    \n",
    "    print(f\"Area under ROC = {areaUnderROC}\")\n",
    "    resultsDict['areaUnderROC'] = areaUnderROC\n",
    "\n",
    "    # Area Under PR\n",
    "    evaluator = BinaryClassificationEvaluator(labelCol=\"y\", rawPredictionCol=\"prediction\", metricName='areaUnderPR')\n",
    "    areaUnderPR = evaluator.evaluate(predictionAndLabels)\n",
    "    print(f\"Area under PR = {areaUnderPR}\")\n",
    "    resultsDict['areaUnderPR'] = areaUnderPR\n",
    "\n",
    "    # Metrics\n",
    "    predictionRDD = predictionAndLabels.select(['y', 'prediction']) \\\n",
    "                            .rdd.map(lambda line: (line[1], line[0]))\n",
    "    metrics = MulticlassMetrics(predictionRDD)\n",
    "\n",
    "    # Confusion Matrix\n",
    "    print(metrics.confusionMatrix().toArray())\n",
    "\n",
    "    # Overall statistics\n",
    "    precision = metrics.precision()\n",
    "    resultsDict['precision'] = precision\n",
    "    \n",
    "    recall = metrics.recall()\n",
    "    resultsDict['recall'] = recall\n",
    "    \n",
    "    fscore = metrics.fMeasure()\n",
    "    resultsDict['F Score'] = fscore\n",
    "        \n",
    "    print(f\"Precision: {precision}, Recall: {recall}, F Score: {fscore}\")\n",
    "            \n",
    "    # Statistics by class\n",
    "    labels = [0.0, 1.0]\n",
    "    for label in sorted(labels):\n",
    "        resultsDict[label] = {}\n",
    "        resultsDict[label]['precision'] = metrics.precision(label)\n",
    "        resultsDict[label]['recall'] = metrics.recall(label)\n",
    "        resultsDict[label]['F1 Measure'] = metrics.fMeasure(label, beta=1.0)\n",
    "        print(f\"Class {label}: Precision: {resultsDict[label]['precision']}, Recall: {resultsDict[label]['recall']}, F Score: {resultsDict[label]['F1 Measure']}\")\n",
    "\n",
    "    return resultsDict"
   ]
  },
  {
   "cell_type": "code",
   "execution_count": 51,
   "metadata": {},
   "outputs": [
    {
     "name": "stdout",
     "output_type": "stream",
     "text": [
      "Area under ROC = 0.5023005049812859\n",
      "Area under PR = 0.5525173873121492\n",
      "[[2.7265708e+07 8.4040000e+03]\n",
      " [9.3506260e+06 4.6130000e+04]]\n",
      "Precision: 0.7447829705039979, Recall: 0.7447829705039979, F Score: 0.7447829705039979\n",
      "Class 0.0: Precision: 0.7446323818217302, Recall: 0.9996918689781724, F Score: 0.853514404955007\n",
      "Class 1.0: Precision: 0.8458943044706055, Recall: 0.004909140984399297, F Score: 0.009761630422936974\n",
      "\n",
      "... Executed in 880.9691870212555 seconds\n"
     ]
    }
   ],
   "source": [
    "start = time.time()\n",
    "trainResultDict = evaluateModel(trainPredsAndLabels)\n",
    "print(f\"\\n... Executed in {time.time() - start} seconds\")"
   ]
  },
  {
   "cell_type": "code",
   "execution_count": 52,
   "metadata": {},
   "outputs": [
    {
     "name": "stdout",
     "output_type": "stream",
     "text": [
      "Area under ROC = 0.5023006916859679\n",
      "Area under PR = 0.5505664548812527\n",
      "[[6.818901e+06 2.166000e+03]\n",
      " [2.337129e+06 1.155300e+04]]\n",
      "Precision: 0.7448899637274695, Recall: 0.7448899637274695, F Score: 0.7448899637274695\n",
      "Class 0.0: Precision: 0.7447442832756118, Recall: 0.9996824543726077, F Score: 0.8535844778309852\n",
      "Class 1.0: Precision: 0.8421167723595014, Recall: 0.004918928999328134, F Score: 0.009780727319367034\n",
      "\n",
      "... Executed in 646.3143575191498 seconds\n"
     ]
    }
   ],
   "source": [
    "start = time.time()\n",
    "validResultDict = evaluateModel(validPredsAndLabels)\n",
    "print(f\"\\n... Executed in {time.time() - start} seconds\")"
   ]
  },
  {
   "cell_type": "markdown",
   "metadata": {},
   "source": [
    "# Now We Can Visualize our Precision & Recall Graphs"
   ]
  },
  {
   "cell_type": "code",
   "execution_count": 53,
   "metadata": {},
   "outputs": [
    {
     "name": "stderr",
     "output_type": "stream",
     "text": [
      "Exception ignored in: <function JavaWrapper.__del__ at 0x7febf312cf80>\n",
      "Traceback (most recent call last):\n",
      "  File \"/opt/anaconda/lib/python3.7/site-packages/pyspark-2.4.4-py3.7.egg/pyspark/ml/wrapper.py\", line 40, in __del__\n",
      "    if SparkContext._active_spark_context and self._java_obj is not None:\n",
      "AttributeError: 'MaxAbsScaler' object has no attribute '_java_obj'\n"
     ]
    },
    {
     "data": {
      "image/png": "[encoded data removed]",
      "text/plain": [
       "<Figure size 360x360 with 1 Axes>"
      ]
     },
     "metadata": {},
     "output_type": "display_data"
    },
    {
     "name": "stdout",
     "output_type": "stream",
     "text": [
      "\n",
      "... Executed in 205.796049118042 seconds\n"
     ]
    }
   ],
   "source": [
    "start = time.time()\n",
    "plt.figure(figsize=(5,5))\n",
    "plt.plot([0, 1], [0, 1], 'r--')\n",
    "plt.plot(cvModel.bestModel.stages[-1].summary.roc.select('FPR').collect(),\n",
    "         cvModel.bestModel.stages[-1].summary.roc.select('TPR').collect())\n",
    "plt.xlabel('FPR')\n",
    "plt.ylabel('TPR')\n",
    "plt.show()\n",
    "print(f\"\\n... Executed in {time.time() - start} seconds\")"
   ]
  },
  {
   "cell_type": "code",
   "execution_count": 54,
   "metadata": {},
   "outputs": [
    {
     "data": {
      "image/png": "[encoded data removed]",
      "text/plain": [
       "<Figure size 360x360 with 1 Axes>"
      ]
     },
     "metadata": {},
     "output_type": "display_data"
    },
    {
     "name": "stdout",
     "output_type": "stream",
     "text": [
      "\n",
      "... Executed in 0.1961524486541748 seconds\n"
     ]
    }
   ],
   "source": [
    "start = time.time()\n",
    "plt.figure(figsize=(5,5))\n",
    "plt.plot([0, 1], [0, 0], 'r--')\n",
    "plt.plot(cvModel.bestModel.stages[-1].summary.pr.select('recall').collect(),\n",
    "         cvModel.bestModel.stages[-1].summary.pr.select('precision').collect())\n",
    "plt.xlabel('Recall')\n",
    "plt.ylabel('Precision')\n",
    "plt.show()\n",
    "print(f\"\\n... Executed in {time.time() - start} seconds\")"
   ]
  },
  {
   "cell_type": "markdown",
   "metadata": {},
   "source": [
    "# Submit Our Test Set to Kaggle To See Performance"
   ]
  },
  {
   "cell_type": "code",
   "execution_count": 55,
   "metadata": {},
   "outputs": [],
   "source": [
    "kaggleOutput = testPredsAndLabels.select([\"id\", \"probability\"])\n",
    "kaggleOutput = kaggleOutput.rdd.map(lambda x: (int(x['id']), float(x['probability'][1])))"
   ]
  },
  {
   "cell_type": "code",
   "execution_count": 169,
   "metadata": {},
   "outputs": [],
   "source": [
    "# Test Some Brief Stuff\n",
    "\n",
    "kaggleOutput = lr_test_predictions.select([\"id\", \"probability\"])\n",
    "kaggleOutput = kaggleOutput.rdd.map(lambda x: (int(x['id']), float(x['probability'][1])))"
   ]
  },
  {
   "cell_type": "code",
   "execution_count": 170,
   "metadata": {},
   "outputs": [
    {
     "name": "stdout",
     "output_type": "stream",
     "text": [
      "\n",
      "... Executed in 0.05407404899597168 seconds\n"
     ]
    }
   ],
   "source": [
    "# Convert train file from csv to parquet\n",
    "start = time.time()\n",
    "schema = StructType([\n",
    "    StructField(\"id\", IntegerType(), True),\n",
    "    StructField(\"probability\", FloatType(), True)])\n",
    "\n",
    "kaggleDF = sqlContext.createDataFrame(kaggleOutput, schema)\n",
    "print(f\"\\n... Executed in {time.time() - start} seconds\")"
   ]
  },
  {
   "cell_type": "code",
   "execution_count": 171,
   "metadata": {},
   "outputs": [
    {
     "name": "stdout",
     "output_type": "stream",
     "text": [
      "\n",
      "... Executed in 42.62530779838562 seconds\n"
     ]
    }
   ],
   "source": [
    "start = time.time()\n",
    "kaggleDF.write.parquet('kaggle.parquet')\n",
    "print(f\"\\n... Executed in {time.time() - start} seconds\")"
   ]
  },
  {
   "cell_type": "code",
   "execution_count": 172,
   "metadata": {},
   "outputs": [
    {
     "name": "stdout",
     "output_type": "stream",
     "text": [
      "\n",
      "... Executed in 0.035701751708984375 seconds\n"
     ]
    }
   ],
   "source": [
    "start = time.time()\n",
    "kaggleDF = sqlContext.read.parquet('kaggle.parquet')\n",
    "print(f\"\\n... Executed in {time.time() - start} seconds\")"
   ]
  },
  {
   "cell_type": "code",
   "execution_count": 173,
   "metadata": {},
   "outputs": [
    {
     "name": "stdout",
     "output_type": "stream",
     "text": [
      "\n",
      "... Executed in 14.604223251342773 seconds\n"
     ]
    }
   ],
   "source": [
    "start = time.time()\n",
    "pandasDF = kaggleDF.toPandas()\n",
    "pandasDF.columns=['id','Predicted']\n",
    "print(f\"\\n... Executed in {time.time() - start} seconds\")"
   ]
  },
  {
   "cell_type": "code",
   "execution_count": 174,
   "metadata": {},
   "outputs": [
    {
     "name": "stdout",
     "output_type": "stream",
     "text": [
      "\n",
      "... Executed in 11.946702718734741 seconds\n"
     ]
    }
   ],
   "source": [
    "start = time.time()\n",
    "pandasDF.to_csv('submission.csv', header=True, index=False)\n",
    "print(f\"\\n... Executed in {time.time() - start} seconds\")"
   ]
  },
  {
   "cell_type": "code",
   "execution_count": 175,
   "metadata": {},
   "outputs": [],
   "source": [
    "# !kaggle competitions list"
   ]
  },
  {
   "cell_type": "code",
   "execution_count": 176,
   "metadata": {},
   "outputs": [
    {
     "name": "stdout",
     "output_type": "stream",
     "text": [
      "100%|████████████████████████████████████████| 114M/114M [01:40<00:00, 1.19MB/s]\n",
      "Successfully submitted to Display Advertising Challenge"
     ]
    }
   ],
   "source": [
    "!kaggle competitions submit -c criteo-display-ad-challenge -f submission.csv -m \"Baseline Submission\""
   ]
  },
  {
   "cell_type": "markdown",
   "metadata": {},
   "source": [
    "# Comparison between CSV & Parquet"
   ]
  },
  {
   "cell_type": "markdown",
   "metadata": {},
   "source": [
    "Apache parquet file format is designed to more efficiently store columnar data rather than by row such as using a file format like csv.  Parquet is optimized to minimize file I/O and efficiently compresses.  Parquet can be queried more efficiently with SQL than csv files.  When using a cloud platform, users may be charged by I/O so use of a csv will be more expensive when compared to parquet.  Additionally, because parquet is faster, computation charges are correspondingly lower as well.  Parquet file format may yield a performance improvement around 10x, or an order of magnitude, when compared to performance on a csv.\n",
    "\n",
    "Additionally, parquet file format allows for easy use of a spark DF as it has performance improvements relative to RDD.  \n",
    "\n",
    "https://dzone.com/articles/how-to-be-a-hero-with-powerful-parquet-google-and  \n",
    "https://developer.ibm.com/hadoop/2016/01/14/5-reasons-to-choose-parquet-for-spark-sql/  \n",
    "https://mapr.com/blog/tips-and-best-practices-to-take-advantage-of-spark-2-x/  "
   ]
  },
  {
   "cell_type": "markdown",
   "metadata": {},
   "source": [
    "# What is Evaluation Metric and how does this matter wrt over & under sampling?"
   ]
  },
  {
   "cell_type": "markdown",
   "metadata": {},
   "source": [
    "Accuracy is not a good measure for this dataset because it is not balanced.  If we were to always predict that the user would not click on the advertisement, we would score a high accuracy because that is the predominant class.  There are some methods to deal with this aspect of the data, such as undersampling or oversampling, however, we were instructed that the dataset has already been resampled.  Accuracy is a good metric only if the data is uniformly distributed.  Therefore, we must choose other metrics in order to evaluate the performance of our model.  \n",
    "\n",
    "Precision and recall are other metrics that we should consider.\n",
    "\n",
    "$$ Precision = \\frac{True Positives}{True Positives + False Positives}$$\n",
    "\n",
    "$$ Recall = \\frac{True Positives}{True Positives + False Negatives}$$\n",
    "\n",
    "$$ F_1Score = 2\\frac{Precision * Recall}{Precision + Recall}$$\n",
    "\n",
    "Precision describes how well we are able to identify the true class.  As an example, a very high precision score occurs when there are few false positives.  A high precision score would occur if we correctly identify when people click on the add, but we may be missing many of the other clicks but we have very few false positives.\n",
    "\n",
    "Recall describes how well we identify all of the positive class examples.  A high recall score occurs when we identify all of the clicks.  In this case, if we were to identify all ads as being clicked on, we would have a perfect Recall score, but have a very low precision.\n",
    "\n",
    "The F score is the harmonic mean of Precision & Recall and can serve as a good metric to understand the trade-off between Precision & Recall."
   ]
  },
  {
   "cell_type": "markdown",
   "metadata": {},
   "source": [
    "![Under Sampling](support/under_sampling.png)"
   ]
  },
  {
   "cell_type": "markdown",
   "metadata": {},
   "source": [
    "There are two other metrics that are also useful for us to evaluate the performance of our model: The ROC Curve, and the Precision-Recall Curve.  \n",
    "\n",
    "The ROC (Receiver Operating Characteristic) Curve is a plot that shows the False Positive Rate on the X-axis, and the True Positive Rate on the y-axis.  The score is defined as the area under the curve.  It assists in the use of defining a threshold by which we can define our model.  We can tune the threshold to determine how many false positives we can tolerate in order to increase the number of true positives that we capture.  As an example, we could focus more effort and advertisement dollars on the individuals that we are very confident that they will click.\n",
    "\n",
    "Similarly, the precision-recall curve plots recall along the X-axis with precision along the y-axis.  The score is defined as the area under the curve.  Just like with the ROC, we can tune our model by adjusting our recall to determine what precision we would accept.  \n",
    "\n",
    "We ultimately use the area under the precision-recall curve in order to optimize our model.  This is well suited to deal with an imbalanced data set.\n",
    "\n",
    "http://www.davidsbatista.net/blog/2018/08/19/NLP_Metrics/  \n",
    "https://machinelearningmastery.com/roc-curves-and-precision-recall-curves-for-classification-in-python/  "
   ]
  },
  {
   "cell_type": "markdown",
   "metadata": {},
   "source": [
    "# Algorithm Explanation"
   ]
  },
  {
   "cell_type": "markdown",
   "metadata": {},
   "source": [
    "When predicting click-through rate (CTR) for a website, our goal is to generate a probability value that is representative of a binary outcome.  Logistic regression is an algorithm that is particularly useful for this task.  That is, we are trying to predict if a user will click on an advertisement or not, we are defining a binary statistic with a probability between 0 and 1.  \n",
    "\n",
    "The logistic model is useful as it better able to capture the shape of the probability distribution when compared to other methods such as linear regression.  Logistic regression always creates an S-shaped curve, which, cannot be below 0% or above 100% liklihood, in comparison to linear regression.  \n",
    "\n",
    "Additionally, logistic regression does not have the same rigid assumptions that linear regression may have, and does not require us to scale our data.  However, because we choose to use regularization, we **do** indeed need to scale our features.  We may use the MaxAbsScaler because it is able to preserve sparsity.  Both standard scaler and min max scaler, produce dense outputs if we choose to center the mean.  \n",
    "\n",
    "The assumptions for logistic regression are shown below:  \n",
    "\n",
    "1. The dependent variable is binary\n",
    "2. Observations are independent \n",
    "3. No multi-collinearity between independent variables\n",
    "4. Independent variables are related to the log odds\n",
    "\n",
    "From the above, we are confident that conditions 1 and 2 are satisfied.  Based on our EDA and the independent variables that we eliminated, we can be reasonably confident that condition 3 is also satisfied.  The fourth condition is a reasonable expectation in order to fit a model to the available data.  \n",
    "\n",
    "The Logistic Regression Equation with Regularization is Shown Below:\n",
    "\n",
    "$$ p(X) = \\frac{e^{\\sum_{i=0}^{n}\\beta_iX}}{1+e^{\\sum_{i=0}^{n}\\beta_iX}}$$\n",
    "\n",
    "$$ min \\sum_{i=1}^L(log(1+exp(-y_i\\theta))+\\frac{\\lambda}{2}||w||^2$$\n",
    "\n",
    "Gareth, James. et al. An Introduction to Statistical Learning with Applications in R.  Springer Publishing.  2015.  \n",
    "https://en.wikipedia.org/wiki/Logistic_regression  \n",
    "http://www.cs.rpi.edu/~magdon/courses/LFD-Slides/SlidesLect09.pdf  "
   ]
  },
  {
   "cell_type": "markdown",
   "metadata": {},
   "source": [
    "# Gradient Descent for Logistic Regression"
   ]
  },
  {
   "cell_type": "markdown",
   "metadata": {},
   "source": [
    "Because the data is large, we cannot solve the parameters for the ideal regressor directly.  Instead, we must apply an algorithm to optimize the loss function.  A common method of optimizing the function is through the use of gradient descent.  That is, we iteratively evaluate points from our dataset then use these to gradually update the parameters of our model.  The mathematical detail to explain the application of this for logistic regression is shown below.\n",
    "\n",
    "Our rows of data with dependent and independent variables are defined as:  \n",
    "\n",
    "$$ y = \\theta_0 + \\theta_1 x + ... + \\theta_l x_l = \\theta^T x$$\n",
    "\n",
    "For the case of logistic regression, we can define our function g(z) to provide probability in the range of 0 - 1.  \n",
    "\n",
    "$$ h_{\\theta}(x) = g(\\theta^T x) $$\n",
    "\n",
    "$$ g(z) = \\frac{1}{1+e^{-z}} $$\n",
    "\n",
    "In order to find our optimal parameters we define a loss function.  This loss function is Cross-Entropy or Log Loss rather than RMSE and we define it as:  \n",
    "\n",
    "$$ L(\\hat{y},y) = -(ylog\\hat{y} + (1-y)log(1-\\hat{y})) $$\n",
    "\n",
    "We can define a cost Function, J, using our notation from h and g as:\n",
    "\n",
    "$$ h = g(X \\theta) $$\n",
    "\n",
    "$$ J = \\frac{\\sum_{i=1}^{m} L(\\hat{y}^i,y^i)}{m} = -\\frac{ \\sum_{i=1}^{m} y^ilog\\hat{y}^i + (1-y^i)log(1-\\hat{y}^i)}{m} $$\n",
    "\n",
    "$$ J(\\theta) = \\frac{1}{m}(-y^Tlog(h)-(1-y)^Tlog(1-h))$$\n",
    "\n",
    "In order to use gradient descent we will want the derivative of the function J at each step.  So we will take the derivative.\n",
    "\n",
    "$$ \\frac{dJ}{d\\theta} = x(\\hat{y}-y)$$\n",
    "\n",
    "We will iteratively update the weights of our model by predicting the class then evaluating the derivative until convergence or a maximum number of iterations:\n",
    "\n",
    "$$ \\theta_t = \\theta_{t-1} - \\alpha \\frac{dJ}{d\\theta} $$\n",
    "\n",
    "https://towardsdatascience.com/gradient-descent-demystified-bc30b26e432a  \n",
    "https://ml-cheatsheet.readthedocs.io/en/latest/logistic_regression.html  \n",
    "https://spark.apache.org/docs/latest/mllib-linear-methods.html#logistic-regression  "
   ]
  },
  {
   "cell_type": "markdown",
   "metadata": {},
   "source": [
    "# Course Concepts"
   ]
  },
  {
   "cell_type": "markdown",
   "metadata": {},
   "source": [
    "# Big Data Scalability: Hadoop vs. Spark"
   ]
  },
  {
   "cell_type": "markdown",
   "metadata": {},
   "source": [
    "Big Data problems require specialized softwares.  Both Hadoop and Spark are viable options to accomplish this task.  For this project we choose to make use of Spark when creating our model and processing the raw csv files.  Spark is a project by Apache for big data analytics.  The key difference between Spark and Hadoop is that Spark can perform processing in-memory while Hadoop has to read and write to disk.  Therefore, Spark may be up to 100 times faster.\n",
    "\n",
    "Spark also has an API that supports many more (~80) operators than just map and reduce, which, is a limitation of Hadoop.  Spark uses lazy evaluation, which, can help it to run much faster by creating a pipeline prior to evaluating our calculations.  There are broadcast variables that can be used to share state, which, is a departure from the functional programming paradigm, but becomes useful in tracking state when creating a machine learning algorithm.  \n",
    "\n",
    "https://spark.apache.org/  "
   ]
  },
  {
   "cell_type": "markdown",
   "metadata": {},
   "source": [
    "# ML Lib"
   ]
  },
  {
   "cell_type": "markdown",
   "metadata": {},
   "source": [
    "ML Lib is Apache Spark's machine learning library to deal with large data.  It has a number of supported algorithms available through its API such as Decision Trees, Binary Logistic Regression, Multi-class Logistic Regression, Kmeans, clustering, Gaussian Mixture Models, Naive Bayes, and many more.  Because of its ease of use and optimization for use with Spark, and numpy, we choose to utilize ML Lib when implementing our data processing pipeline and machine learning algorithm for this particular problem.\n",
    "\n",
    "https://spark.apache.org/mllib/  "
   ]
  },
  {
   "cell_type": "markdown",
   "metadata": {},
   "source": [
    "# One Hot Encoding"
   ]
  },
  {
   "cell_type": "markdown",
   "metadata": {},
   "source": [
    "When dealing with this particular dataset, the majority of the features are categorical variables.  In some cases, these particular categorical features may have upwards of 1 Million distinct potential categories.  However, when dealing with a logistic regression classifier, we must binarize these particular features such that the mathematical operations are able to be performed.  Therefore, a feature that has 3 potential values e.g. \"red\", \"green\", or \"blue\" would instead be transformed into a vector where all of the elements are 0 except for the selected category.  Therefore, in this case, we might represent a \"red\" object with the vector [1, 0, 0].  In this way we are able to make use of the categorical variables in order to predict the liklihood of clicking on the advertisement.\n",
    "\n",
    "https://machinelearningmastery.com/why-one-hot-encode-data-in-machine-learning/  "
   ]
  },
  {
   "cell_type": "markdown",
   "metadata": {},
   "source": [
    "# Sparse Representation"
   ]
  },
  {
   "cell_type": "markdown",
   "metadata": {},
   "source": [
    "When dealing with many categorical variables that are one hot encoded (OHE) we would naturally see a large portion of the feature space is zero.  In fact, in this case where we may have millions of categorical features for a single variable, in practicality almost all of data is zero.  Therefore, in order to save space and allow our algorithm to function, we make use of an alternative representation for our data such as a sparse matrix or a sparse vector.  ML Lib has native support for sparse representations and produces these data structures when using the native API OHE functions.  As an example, we might transform a vector such as this: [0,0,0,0,0,0,0,0,0,1] to {9:1}.  This becomes more important in practice when otherwise we would have millions of zero entries in our vector.\n",
    "\n",
    "https://spark.apache.org/docs/latest/api/python/pyspark.mllib.html  "
   ]
  },
  {
   "cell_type": "markdown",
   "metadata": {},
   "source": [
    "# Over Fitting & Model Regularization"
   ]
  },
  {
   "cell_type": "markdown",
   "metadata": {},
   "source": [
    "Regularization is utilized as a means of of solving the overfitting problem.  The concept is that our model is complex and has many parameters.  Humans lack the intuition to understand the interplay between the many parameters of the model.  Therefore we can introduce a regularization term, or a penalty, that is added to our cost function that is determined by the weights of the model.  In this way, we can tune the regularization parameter such that we will minimize the number of non-zero parameters in our model.  Commonly, L2 regularization is known as ridge regression and is defined as the sum of the squares of the weights, while L1 regularization is known as lasso regression and is defined as the sum of the absolute values of the weights.  L2 regularization tends to set the parameters to values close to zero, while L1 regularization tends to set parameters to be exactly zero.  The diagram below shows the effect of the L1 regularization, L2 regularization, and elastic net regularization, which, is a linear combination of the L1 & L2 techniques.  ML Lib supports L1, L2, and elastic net regularization.\n",
    "\n",
    "Mathematically, the regularization terms are defined as such:\n",
    "\n",
    "$$ L1 =\\lambda \\sum_{k=1}^n|\\theta_k|$$\n",
    "\n",
    "$$ L2 =\\lambda \\sum_{k=1}^n|\\theta_k|^2$$\n",
    "\n",
    "Gareth, James. et al. An Introduction to Statistical Learning with Applications in R.  Springer Publishing.  2015.  \n",
    "http://www.ds100.org/sp17/assets/notebooks/linear_regression/Regularization.html  "
   ]
  },
  {
   "cell_type": "markdown",
   "metadata": {},
   "source": [
    "![Regularization](support/regularization.png)"
   ]
  },
  {
   "cell_type": "markdown",
   "metadata": {},
   "source": [
    "● scalability / time complexity / I/O vs Memory  ● functional programming / higher order functions / map reduce paradigm  ● bias variance tradeoff / model complexity / regularization  ● associative/commutative operations  ● race conditions / barrier synchronization / statelessness  ● the shuffle  / combiners / local aggregation  ● order inversion pattern / composite keys   ● total order sort /  custom partitioning  ● broadcasting / caching / DAGs / lazy evaluation  ● GD - convex optimization / Batch vs stochastic  ● sparse representation (pairs vs stripes)  ● preserving the graph structure / additional payloads   ● One Hot Encoding / vector embeddings / feature selection  ● normalization  ● assumptions (for different algorithms - for example OLS vs Trees)  ● implications of iterative algorithms in Hadoop M/R vs Spar"
   ]
  },
  {
   "cell_type": "markdown",
   "metadata": {},
   "source": [
    "# Question Formulation"
   ]
  },
  {
   "cell_type": "markdown",
   "metadata": {},
   "source": [
    "The dataset for the final project for W261 at UC Berkeley MIDS program is the Criteo Display Advertising Challenge from 2014 (https://www.kaggle.com/c/criteo-display-ad-challenge/overview).  This dataset is a sample of of the web traffic that CriteoLabs gathered in order to predict Click Through Rate.  Click Through Rate (CTR) can be thought of as the probability that a user will engage with a particular element of the internet such as an advertisement.  Because CTR is tied to revenue at many technology companies, it is an intense area of focus.  \n",
    "\n",
    "The data that was provided is entirely anonymized and there is no additional context behind the independent variables provided.  Therefore our line of reasoning and questions may be limited to exclude any demographic or domain specific insights.  \n",
    "\n",
    "From an overarching standpoint, when creating our solution it must be robust.  \n",
    "\n",
    "1. What design decisions can we make to optimize performance and allow our solution to scale?\n",
    "\n",
    "Some of the other specific questions that are of interest are as follows:\n",
    "\n",
    "1. How does One Hot Encoding impact performance and what is the optimal methodology to determine number of categories?  \n",
    "2. Is K-fold Cross Validation necessary when dealing with sufficiently big data?  \n",
    "3. What is the trade-off between False Positives and False Negatives?  \n",
    "4. Does regularization improve our model?"
   ]
  },
  {
   "cell_type": "markdown",
   "metadata": {},
   "source": [
    "## Table of Contents\n",
    "\n",
    "* __Section 1__ - Question Formulation\n",
    "* __Section 2__ - Algorithm Explanation\n",
    "* __Section 3__ - EDA & Challenges\n",
    "* __Section 4__ - Algorithm Implementation\n",
    "* __Section 5__ - Course Concepts"
   ]
  },
  {
   "cell_type": "markdown",
   "metadata": {},
   "source": [
    "# __Section 1__ - Question Formulation"
   ]
  },
  {
   "cell_type": "markdown",
   "metadata": {},
   "source": []
  },
  {
   "cell_type": "markdown",
   "metadata": {},
   "source": []
  },
  {
   "cell_type": "markdown",
   "metadata": {},
   "source": [
    "# __Section 2__ - Algorithm Explanation"
   ]
  },
  {
   "cell_type": "markdown",
   "metadata": {},
   "source": []
  },
  {
   "cell_type": "markdown",
   "metadata": {},
   "source": []
  },
  {
   "cell_type": "markdown",
   "metadata": {},
   "source": [
    "# __Section 3__ - EDA & Challenges"
   ]
  },
  {
   "cell_type": "markdown",
   "metadata": {},
   "source": []
  },
  {
   "cell_type": "markdown",
   "metadata": {},
   "source": []
  },
  {
   "cell_type": "markdown",
   "metadata": {},
   "source": [
    "# __Section 4__ - Algorithm Implementation"
   ]
  },
  {
   "cell_type": "markdown",
   "metadata": {},
   "source": []
  },
  {
   "cell_type": "markdown",
   "metadata": {},
   "source": []
  },
  {
   "cell_type": "markdown",
   "metadata": {},
   "source": [
    "# __Section 5__ - Course Concepts"
   ]
  },
  {
   "cell_type": "markdown",
   "metadata": {},
   "source": []
  },
  {
   "cell_type": "markdown",
   "metadata": {},
   "source": []
  },
  {
   "cell_type": "code",
   "execution_count": null,
   "metadata": {},
   "outputs": [],
   "source": []
  }
 ],
 "metadata": {
  "kernelspec": {
   "display_name": "Python 3",
   "language": "python",
   "name": "python3"
  },
  "language_info": {
   "codemirror_mode": {
    "name": "ipython",
    "version": 3
   },
   "file_extension": ".py",
   "mimetype": "text/x-python",
   "name": "python",
   "nbconvert_exporter": "python",
   "pygments_lexer": "ipython3",
   "version": "3.7.5"
  }
 },
 "nbformat": 4,
 "nbformat_minor": 4
}
